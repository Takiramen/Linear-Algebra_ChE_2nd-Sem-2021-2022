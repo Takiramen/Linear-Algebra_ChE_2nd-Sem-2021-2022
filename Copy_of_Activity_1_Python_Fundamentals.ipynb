{
  "nbformat": 4,
  "nbformat_minor": 0,
  "metadata": {
    "colab": {
      "name": "Copy of Activity 1 - Python Fundamentals",
      "provenance": [],
      "collapsed_sections": [
        "AAafsrpwIoxs",
        "G0gO-AcsLWUD",
        "-8fhpLVLMYei",
        "Gyrt1hi_PcL_"
      ],
      "include_colab_link": true
    },
    "kernelspec": {
      "name": "python3",
      "display_name": "Python 3"
    },
    "language_info": {
      "name": "python"
    }
  },
  "cells": [
    {
      "cell_type": "markdown",
      "metadata": {
        "id": "view-in-github",
        "colab_type": "text"
      },
      "source": [
        "<a href=\"https://colab.research.google.com/github/Takiramen/Linear-Algebra_ChE_2nd-Sem-2021-2022/blob/main/Copy_of_Activity_1_Python_Fundamentals.ipynb\" target=\"_parent\"><img src=\"https://colab.research.google.com/assets/colab-badge.svg\" alt=\"Open In Colab\"/></a>"
      ]
    },
    {
      "cell_type": "markdown",
      "source": [
        "# Welcome to Python Fundamentals\n",
        "In this module, we are going to establish or review our skills in Python programming. In this notebook we are going to cover:\n",
        "* Variables and Data Types \n",
        "* Operations\n",
        "* Input and Output Operations\n",
        "* Logic Control\n",
        "* Iterables\n",
        "* Functions"
      ],
      "metadata": {
        "id": "0nrTVKdk_v2O"
      }
    },
    {
      "cell_type": "markdown",
      "source": [
        ""
      ],
      "metadata": {
        "id": "QmU3eciwhMSz"
      }
    },
    {
      "cell_type": "markdown",
      "source": [
        "## Variable and Data Types\n"
      ],
      "metadata": {
        "id": "seqySWQBAIdu"
      }
    },
    {
      "cell_type": "code",
      "source": [
        "x = 4\n",
        "a, b = 0, -4\n",
        "b"
      ],
      "metadata": {
        "colab": {
          "base_uri": "https://localhost:8080/"
        },
        "id": "lfpxoE_4AOfc",
        "outputId": "e9b2bb89-3209-434b-855b-52f4edea1335"
      },
      "execution_count": null,
      "outputs": [
        {
          "output_type": "execute_result",
          "data": {
            "text/plain": [
              "-4"
            ]
          },
          "metadata": {},
          "execution_count": 40
        }
      ]
    },
    {
      "cell_type": "code",
      "source": [
        "type(a)"
      ],
      "metadata": {
        "colab": {
          "base_uri": "https://localhost:8080/"
        },
        "id": "7WsfuV46BX8M",
        "outputId": "9d89d316-6365-4dac-9cb1-cda316419b05"
      },
      "execution_count": null,
      "outputs": [
        {
          "output_type": "execute_result",
          "data": {
            "text/plain": [
              "int"
            ]
          },
          "metadata": {},
          "execution_count": 41
        }
      ]
    },
    {
      "cell_type": "code",
      "source": [
        "y= 4.0\n",
        "type(y)"
      ],
      "metadata": {
        "colab": {
          "base_uri": "https://localhost:8080/"
        },
        "id": "huUwwHASBl7a",
        "outputId": "3a4727e4-e6f6-4797-ba93-6a60acbba6a4"
      },
      "execution_count": null,
      "outputs": [
        {
          "output_type": "execute_result",
          "data": {
            "text/plain": [
              "float"
            ]
          },
          "metadata": {},
          "execution_count": 42
        }
      ]
    },
    {
      "cell_type": "code",
      "source": [
        "x=float(x)\n",
        "x"
      ],
      "metadata": {
        "colab": {
          "base_uri": "https://localhost:8080/"
        },
        "id": "Mz_Px5bkBu9E",
        "outputId": "69c77618-d2c8-4cab-8c23-e5e7aacef4dd"
      },
      "execution_count": null,
      "outputs": [
        {
          "output_type": "execute_result",
          "data": {
            "text/plain": [
              "4.0"
            ]
          },
          "metadata": {},
          "execution_count": 43
        }
      ]
    },
    {
      "cell_type": "code",
      "source": [
        "s,t,u =\"0\",'4', 'four'\n",
        "type(s)"
      ],
      "metadata": {
        "colab": {
          "base_uri": "https://localhost:8080/"
        },
        "id": "t3cu5NlnB4mh",
        "outputId": "77fbdbe1-3bf2-4bd3-a236-b15260912847"
      },
      "execution_count": null,
      "outputs": [
        {
          "output_type": "execute_result",
          "data": {
            "text/plain": [
              "str"
            ]
          },
          "metadata": {},
          "execution_count": 8
        }
      ]
    },
    {
      "cell_type": "code",
      "source": [
        "s_int = int(s)\n",
        "s_int "
      ],
      "metadata": {
        "colab": {
          "base_uri": "https://localhost:8080/"
        },
        "id": "QylRXXqjCR-5",
        "outputId": "03beb159-4199-4186-cdc6-37244aea96c2"
      },
      "execution_count": null,
      "outputs": [
        {
          "output_type": "execute_result",
          "data": {
            "text/plain": [
              "0"
            ]
          },
          "metadata": {},
          "execution_count": 9
        }
      ]
    },
    {
      "cell_type": "markdown",
      "source": [
        "## Operations\n"
      ],
      "metadata": {
        "id": "IScZBZBgCqV1"
      }
    },
    {
      "cell_type": "markdown",
      "source": [
        "###Arithmethic"
      ],
      "metadata": {
        "id": "zNrqk3inCveQ"
      }
    },
    {
      "cell_type": "code",
      "source": [
        "t,a,k,i=1.0, 2.0, 3.0, 4.0"
      ],
      "metadata": {
        "id": "lWE74rUYC7EA"
      },
      "execution_count": null,
      "outputs": []
    },
    {
      "cell_type": "code",
      "source": [
        "#Addition\n",
        "S=t+a\n",
        "S"
      ],
      "metadata": {
        "colab": {
          "base_uri": "https://localhost:8080/"
        },
        "id": "qGO2pgFiDLsj",
        "outputId": "623c2925-9225-42b8-e73e-6cd1e474e64f"
      },
      "execution_count": null,
      "outputs": [
        {
          "output_type": "execute_result",
          "data": {
            "text/plain": [
              "3.0"
            ]
          },
          "metadata": {},
          "execution_count": 11
        }
      ]
    },
    {
      "cell_type": "code",
      "source": [
        "###Subtraction\n",
        "D= a-i\n",
        "D"
      ],
      "metadata": {
        "colab": {
          "base_uri": "https://localhost:8080/"
        },
        "id": "2gLcyzpHET1k",
        "outputId": "3fe614f0-48a4-4892-dc86-9b40927c48d8"
      },
      "execution_count": null,
      "outputs": [
        {
          "output_type": "execute_result",
          "data": {
            "text/plain": [
              "-2.0"
            ]
          },
          "metadata": {},
          "execution_count": 12
        }
      ]
    },
    {
      "cell_type": "code",
      "source": [
        "### Multiplication\n",
        "P=t*i\n",
        "P"
      ],
      "metadata": {
        "colab": {
          "base_uri": "https://localhost:8080/"
        },
        "id": "8FldfncbErd9",
        "outputId": "f8a460e7-8aca-4c87-b0be-acf25711382b"
      },
      "execution_count": null,
      "outputs": [
        {
          "output_type": "execute_result",
          "data": {
            "text/plain": [
              "4.0"
            ]
          },
          "metadata": {},
          "execution_count": 13
        }
      ]
    },
    {
      "cell_type": "code",
      "source": [
        "### Division\n",
        "Q= t/a\n",
        "Q"
      ],
      "metadata": {
        "colab": {
          "base_uri": "https://localhost:8080/"
        },
        "id": "PmN8og8eGHkq",
        "outputId": "f1943bf2-59a8-4835-b3d5-1cd28ac96533"
      },
      "execution_count": null,
      "outputs": [
        {
          "output_type": "execute_result",
          "data": {
            "text/plain": [
              "0.5"
            ]
          },
          "metadata": {},
          "execution_count": 14
        }
      ]
    },
    {
      "cell_type": "code",
      "source": [
        "### Floor Division\n",
        "Fq = t//a\n",
        "Fq"
      ],
      "metadata": {
        "colab": {
          "base_uri": "https://localhost:8080/"
        },
        "id": "mFBGrQ2nGQoP",
        "outputId": "f1974e9d-0fe3-492d-ec74-f8a68aefd361"
      },
      "execution_count": null,
      "outputs": [
        {
          "output_type": "execute_result",
          "data": {
            "text/plain": [
              "0.0"
            ]
          },
          "metadata": {},
          "execution_count": 15
        }
      ]
    },
    {
      "cell_type": "code",
      "source": [
        "### Exponentiation\n",
        "E = t**a\n",
        "E"
      ],
      "metadata": {
        "colab": {
          "base_uri": "https://localhost:8080/"
        },
        "id": "MkMJb3bTGaHB",
        "outputId": "3ecc4ed7-82d8-472a-fbfe-92879f2aad6b"
      },
      "execution_count": null,
      "outputs": [
        {
          "output_type": "execute_result",
          "data": {
            "text/plain": [
              "1.0"
            ]
          },
          "metadata": {},
          "execution_count": 16
        }
      ]
    },
    {
      "cell_type": "code",
      "source": [
        "### Modulo\n",
        "mod = i%t\n",
        "mod "
      ],
      "metadata": {
        "colab": {
          "base_uri": "https://localhost:8080/"
        },
        "id": "g0PU1SqtGl_T",
        "outputId": "289e4d9b-ba51-4b3a-bfe1-d58cbf4c1c9d"
      },
      "execution_count": null,
      "outputs": [
        {
          "output_type": "execute_result",
          "data": {
            "text/plain": [
              "0.0"
            ]
          },
          "metadata": {},
          "execution_count": 17
        }
      ]
    },
    {
      "cell_type": "markdown",
      "source": [
        "### Assignment Operations\n"
      ],
      "metadata": {
        "id": "AAafsrpwIoxs"
      }
    },
    {
      "cell_type": "code",
      "source": [
        "J, O, S, H = 5.0, 6.0, 7.0, 8.0"
      ],
      "metadata": {
        "id": "U_ahu1hfJE0J"
      },
      "execution_count": null,
      "outputs": []
    },
    {
      "cell_type": "code",
      "source": [
        "J += t\n",
        "J"
      ],
      "metadata": {
        "colab": {
          "base_uri": "https://localhost:8080/"
        },
        "id": "j0-w4HylJktk",
        "outputId": "b59dc566-8249-483f-8298-7b02d5a8d0c8"
      },
      "execution_count": null,
      "outputs": [
        {
          "output_type": "execute_result",
          "data": {
            "text/plain": [
              "6.0"
            ]
          },
          "metadata": {},
          "execution_count": 33
        }
      ]
    },
    {
      "cell_type": "code",
      "source": [
        "H -= i\n",
        "H"
      ],
      "metadata": {
        "colab": {
          "base_uri": "https://localhost:8080/"
        },
        "id": "6OKEj9XaJ5Y9",
        "outputId": "3f05b04f-3a7f-4c4e-a3cb-c87c903c20a4"
      },
      "execution_count": null,
      "outputs": [
        {
          "output_type": "execute_result",
          "data": {
            "text/plain": [
              "4.0"
            ]
          },
          "metadata": {},
          "execution_count": 34
        }
      ]
    },
    {
      "cell_type": "code",
      "source": [
        "S *= 7.0\n",
        "S"
      ],
      "metadata": {
        "colab": {
          "base_uri": "https://localhost:8080/"
        },
        "id": "wkbTxmlyKJCo",
        "outputId": "31d864f3-1a06-46a7-8017-89468f069398"
      },
      "execution_count": null,
      "outputs": [
        {
          "output_type": "execute_result",
          "data": {
            "text/plain": [
              "343.0"
            ]
          },
          "metadata": {},
          "execution_count": 38
        }
      ]
    },
    {
      "cell_type": "code",
      "source": [
        "H **8.0\n",
        "H"
      ],
      "metadata": {
        "colab": {
          "base_uri": "https://localhost:8080/"
        },
        "id": "0TlbIH_6KZrW",
        "outputId": "8b87a395-6cae-4bd0-e32a-d2e92285911c"
      },
      "execution_count": null,
      "outputs": [
        {
          "output_type": "execute_result",
          "data": {
            "text/plain": [
              "4.0"
            ]
          },
          "metadata": {},
          "execution_count": 49
        }
      ]
    },
    {
      "cell_type": "markdown",
      "source": [
        "### Comparators\n"
      ],
      "metadata": {
        "id": "G0gO-AcsLWUD"
      }
    },
    {
      "cell_type": "code",
      "source": [
        "res_1, res_2, res_3 = 1, 2.0, \"1\"\n",
        "true_val=  1.0"
      ],
      "metadata": {
        "id": "1JT-B6YhLYcm"
      },
      "execution_count": null,
      "outputs": []
    },
    {
      "cell_type": "code",
      "source": [
        "## Equality\n",
        "res_1==true_val"
      ],
      "metadata": {
        "colab": {
          "base_uri": "https://localhost:8080/"
        },
        "id": "LsbUKAOvLpc0",
        "outputId": "c65ba0d6-31be-4345-d6c9-12f8ac75e319"
      },
      "execution_count": null,
      "outputs": [
        {
          "output_type": "execute_result",
          "data": {
            "text/plain": [
              "True"
            ]
          },
          "metadata": {},
          "execution_count": 31
        }
      ]
    },
    {
      "cell_type": "code",
      "source": [
        "## Non_equality\n",
        "res_2 != true_val"
      ],
      "metadata": {
        "colab": {
          "base_uri": "https://localhost:8080/"
        },
        "id": "cpc0_FZPLxNO",
        "outputId": "68d42394-d5ea-4096-af86-1a1668fa9b34"
      },
      "execution_count": null,
      "outputs": [
        {
          "output_type": "execute_result",
          "data": {
            "text/plain": [
              "True"
            ]
          },
          "metadata": {},
          "execution_count": 69
        }
      ]
    },
    {
      "cell_type": "code",
      "source": [
        "## Inequality\n",
        "t1=res_1 >res_2\n",
        "t2= res_1 <res_2/2\n",
        "T3= res_1 >= res_2/2\n",
        "t4= res_1 <=res_2\n",
        "t4"
      ],
      "metadata": {
        "colab": {
          "base_uri": "https://localhost:8080/"
        },
        "id": "0QSKfafjL960",
        "outputId": "185ae10d-28cf-4a11-ff92-860554862f03"
      },
      "execution_count": null,
      "outputs": [
        {
          "output_type": "execute_result",
          "data": {
            "text/plain": [
              "True"
            ]
          },
          "metadata": {},
          "execution_count": 77
        }
      ]
    },
    {
      "cell_type": "markdown",
      "source": [
        "### Logical"
      ],
      "metadata": {
        "id": "-8fhpLVLMYei"
      }
    },
    {
      "cell_type": "code",
      "source": [
        "res_1 == true_val"
      ],
      "metadata": {
        "colab": {
          "base_uri": "https://localhost:8080/"
        },
        "id": "qybiVCU2MaBo",
        "outputId": "cee8975b-9e67-4e6e-92b7-7acf396df2fa"
      },
      "execution_count": null,
      "outputs": [
        {
          "output_type": "execute_result",
          "data": {
            "text/plain": [
              "True"
            ]
          },
          "metadata": {},
          "execution_count": 78
        }
      ]
    },
    {
      "cell_type": "code",
      "source": [
        "res_1 is true_val"
      ],
      "metadata": {
        "colab": {
          "base_uri": "https://localhost:8080/"
        },
        "id": "JbvqtRcSN16J",
        "outputId": "80ff51aa-9fe2-439d-e0de-29c01a66227a"
      },
      "execution_count": null,
      "outputs": [
        {
          "output_type": "execute_result",
          "data": {
            "text/plain": [
              "False"
            ]
          },
          "metadata": {},
          "execution_count": 79
        }
      ]
    },
    {
      "cell_type": "code",
      "source": [
        "res_1 is not true_val"
      ],
      "metadata": {
        "colab": {
          "base_uri": "https://localhost:8080/"
        },
        "id": "QvPQNfXaOrb7",
        "outputId": "7638a7a6-8801-4599-de45-cf55465cfce3"
      },
      "execution_count": null,
      "outputs": [
        {
          "output_type": "execute_result",
          "data": {
            "text/plain": [
              "True"
            ]
          },
          "metadata": {},
          "execution_count": 80
        }
      ]
    },
    {
      "cell_type": "code",
      "source": [
        "p, q = True, False\n",
        "conj = p and q\n",
        "conj"
      ],
      "metadata": {
        "colab": {
          "base_uri": "https://localhost:8080/"
        },
        "id": "RoOZjIusO05q",
        "outputId": "5046d21c-d9f4-460d-d21b-d0e75c2d673d"
      },
      "execution_count": null,
      "outputs": [
        {
          "output_type": "execute_result",
          "data": {
            "text/plain": [
              "False"
            ]
          },
          "metadata": {},
          "execution_count": 81
        }
      ]
    },
    {
      "cell_type": "code",
      "source": [
        "p, q = True, False\n",
        "disj = p or q \n",
        "disj"
      ],
      "metadata": {
        "colab": {
          "base_uri": "https://localhost:8080/"
        },
        "id": "kvtC0ZdcPAdY",
        "outputId": "ded96e7c-3f8c-41c2-dbbd-02bd1ed3b3a4"
      },
      "execution_count": null,
      "outputs": [
        {
          "output_type": "execute_result",
          "data": {
            "text/plain": [
              "True"
            ]
          },
          "metadata": {},
          "execution_count": 82
        }
      ]
    },
    {
      "cell_type": "code",
      "source": [
        ""
      ],
      "metadata": {
        "id": "rXfql2C3Aein"
      },
      "execution_count": null,
      "outputs": []
    },
    {
      "cell_type": "markdown",
      "source": [
        "### I/O"
      ],
      "metadata": {
        "id": "Gyrt1hi_PcL_"
      }
    },
    {
      "cell_type": "code",
      "source": [
        "print(\"Play Valorant\")"
      ],
      "metadata": {
        "colab": {
          "base_uri": "https://localhost:8080/"
        },
        "id": "NSpu5wYBPfB9",
        "outputId": "ebf2659f-9d0c-410c-c440-91e701d320e7"
      },
      "execution_count": null,
      "outputs": [
        {
          "output_type": "stream",
          "name": "stdout",
          "text": [
            "Play Valorant\n"
          ]
        }
      ]
    },
    {
      "cell_type": "code",
      "source": [
        "cnt=1"
      ],
      "metadata": {
        "id": "kYDgVaeePkoa"
      },
      "execution_count": null,
      "outputs": []
    },
    {
      "cell_type": "code",
      "source": [
        "string = \"Play Valorant\"\n",
        "print(string, \",Current run count is:\", cnt)\n",
        "cnt += 1"
      ],
      "metadata": {
        "colab": {
          "base_uri": "https://localhost:8080/"
        },
        "id": "-K0AXUeSPnhx",
        "outputId": "36ed9f63-e03a-4467-a606-3c1293e5fe31"
      },
      "execution_count": null,
      "outputs": [
        {
          "output_type": "stream",
          "name": "stdout",
          "text": [
            "Play Valorant ,Current run count is: 1\n"
          ]
        }
      ]
    },
    {
      "cell_type": "code",
      "source": [
        "print(f\"{string}, Current count is: {cnt}\")"
      ],
      "metadata": {
        "id": "GEWI_4aVD9ms",
        "outputId": "eba8222b-750f-4082-df62-f8c1cccb109b",
        "colab": {
          "base_uri": "https://localhost:8080/"
        }
      },
      "execution_count": null,
      "outputs": [
        {
          "output_type": "stream",
          "name": "stdout",
          "text": [
            "Play Valorant, Current count is: 2\n"
          ]
        }
      ]
    },
    {
      "cell_type": "code",
      "source": [
        "Valo_Stand = 1000\n",
        "name= \"Taki\"\n",
        "print(\"Play,\",name, \"your valorant standing is:{1000})\" ,Valo_Stand) "
      ],
      "metadata": {
        "id": "ESNdx-l5QQ9A",
        "outputId": "9064f9f9-f934-4034-b7b2-24b4af28171a",
        "colab": {
          "base_uri": "https://localhost:8080/"
        }
      },
      "execution_count": null,
      "outputs": [
        {
          "output_type": "stream",
          "name": "stdout",
          "text": [
            "Play, Taki your valorant standing is:{1000}) 1000\n"
          ]
        }
      ]
    },
    {
      "cell_type": "code",
      "source": [
        "w_pg, w_mg, w_fg= 0.3, 0.3, 0.4\n",
        "print(\"The Weights of your semestral grade are:/n/t/{:.2%} for Prelims/ n/t/{:.2%} for midterms, and/ / n/t{:.2%} for finals.\".format(w_pg, w_mg, w_fg) )"
      ],
      "metadata": {
        "id": "AXZdC0p6BmsS",
        "outputId": "6ee86c05-8b24-4d3e-aff5-0c67519a532b",
        "colab": {
          "base_uri": "https://localhost:8080/"
        }
      },
      "execution_count": null,
      "outputs": [
        {
          "output_type": "stream",
          "name": "stdout",
          "text": [
            "The Weights of your semestral grade are:/n/t/30.00% for Prelims/ n/t/30.00% for midterms, and/ / n/t40.00% for finals.\n"
          ]
        }
      ]
    },
    {
      "cell_type": "code",
      "source": [
        "x = input(\"enter a number:\")\n",
        "x"
      ],
      "metadata": {
        "id": "q2FDZv2fDOvG",
        "outputId": "c5071062-0682-4c3d-bfe6-f9e281067074",
        "colab": {
          "base_uri": "https://localhost:8080/",
          "height": 53
        }
      },
      "execution_count": null,
      "outputs": [
        {
          "name": "stdout",
          "output_type": "stream",
          "text": [
            "enter a number:4\n"
          ]
        },
        {
          "output_type": "execute_result",
          "data": {
            "application/vnd.google.colaboratory.intrinsic+json": {
              "type": "string"
            },
            "text/plain": [
              "'4'"
            ]
          },
          "metadata": {},
          "execution_count": 24
        }
      ]
    },
    {
      "cell_type": "code",
      "source": [
        "name = input(\"My name is:\")\n",
        "pg = input(\"Enter prelim grade:\")\n",
        "mg = input(\"Enter midterm grade\")\n",
        "fg = input(\"Enter finals grade:\")\n",
        "sem_grade = 80\n",
        "print(\"Hello{}, your semestral grade is :{}\". format(name,sem_grade))"
      ],
      "metadata": {
        "id": "IheqYa0-DY89",
        "outputId": "6a23dee9-1a34-4e15-c12f-c0710d7d4c18",
        "colab": {
          "base_uri": "https://localhost:8080/"
        }
      },
      "execution_count": null,
      "outputs": [
        {
          "output_type": "stream",
          "name": "stdout",
          "text": [
            "My name is: Taki\n",
            "Enter prelim grade: 80\n",
            "Enter midterm grade 80\n",
            "Enter finals grade: 80\n",
            "Hello Taki, your semestral grade is :80\n"
          ]
        }
      ]
    },
    {
      "cell_type": "markdown",
      "source": [
        "#Looping Statements"
      ],
      "metadata": {
        "id": "4UaPwxrXE8V5"
      }
    },
    {
      "cell_type": "markdown",
      "source": [
        ""
      ],
      "metadata": {
        "id": "IiXIoZMmW3MX"
      }
    },
    {
      "cell_type": "markdown",
      "source": [
        "##While"
      ],
      "metadata": {
        "id": "-5yCLIxQFEOZ"
      }
    },
    {
      "cell_type": "code",
      "source": [
        "## while loops\n",
        "i, j = 0, 10\n",
        "while(i<=j):\n",
        "  print(f\"{i}/t|/t{j}\")\n",
        "  i+=1"
      ],
      "metadata": {
        "id": "YmKZaHMeFI0j",
        "outputId": "1832e282-7856-4892-bd2a-97f3b60b1de8",
        "colab": {
          "base_uri": "https://localhost:8080/"
        }
      },
      "execution_count": null,
      "outputs": [
        {
          "output_type": "stream",
          "name": "stdout",
          "text": [
            "0/t|/t10\n",
            "1/t|/t10\n",
            "2/t|/t10\n",
            "3/t|/t10\n",
            "4/t|/t10\n",
            "5/t|/t10\n",
            "6/t|/t10\n",
            "7/t|/t10\n",
            "8/t|/t10\n",
            "9/t|/t10\n",
            "10/t|/t10\n"
          ]
        }
      ]
    },
    {
      "cell_type": "markdown",
      "source": [
        "##For"
      ],
      "metadata": {
        "id": "6wqBQx9uFwyX"
      }
    },
    {
      "cell_type": "code",
      "source": [
        "# for(int i =0; i<10; i++){#printf(i)#}\n",
        "i=0\n",
        "for i in range(11):\n",
        "  print(i)"
      ],
      "metadata": {
        "id": "RPqs1KQkF0AU",
        "outputId": "1b108fc4-1957-421b-906d-6c221bacdeea",
        "colab": {
          "base_uri": "https://localhost:8080/"
        }
      },
      "execution_count": null,
      "outputs": [
        {
          "output_type": "stream",
          "name": "stdout",
          "text": [
            "0\n",
            "1\n",
            "2\n",
            "3\n",
            "4\n",
            "5\n",
            "6\n",
            "7\n",
            "8\n",
            "9\n",
            "10\n"
          ]
        }
      ]
    },
    {
      "cell_type": "code",
      "source": [
        "playlist = [\"Happier\", \"Crazier\", \"Shake\"]\n",
        "print('Now playing:/n')\n",
        "for song in playlist:\n",
        "  print(song)"
      ],
      "metadata": {
        "id": "GqyQ4y36HwMf",
        "outputId": "7e3fd128-77f1-433d-ad8c-c50156829799",
        "colab": {
          "base_uri": "https://localhost:8080/"
        }
      },
      "execution_count": null,
      "outputs": [
        {
          "output_type": "stream",
          "name": "stdout",
          "text": [
            "Now playing:/n\n",
            "Happier\n",
            "Crazier\n",
            "Shake\n"
          ]
        }
      ]
    },
    {
      "cell_type": "code",
      "source": [
        ""
      ],
      "metadata": {
        "id": "Dt80zIlJIOS6"
      },
      "execution_count": null,
      "outputs": []
    },
    {
      "cell_type": "markdown",
      "source": [
        "#Flow Control\n"
      ],
      "metadata": {
        "id": "yC1aIpJZITku"
      }
    },
    {
      "cell_type": "markdown",
      "source": [
        "## Condition Statements\n"
      ],
      "metadata": {
        "id": "yrF0lmLXIW6U"
      }
    },
    {
      "cell_type": "code",
      "source": [
        "numeral1, numeral2 = 12, 14\n",
        "if(numeral1 == numeral2):\n",
        "  print(\"yes\")\n",
        "elif(numeral1>numeral2):\n",
        "    print(\"uhmm\")\n",
        "else:\n",
        "    print(\"HIHI\")"
      ],
      "metadata": {
        "id": "iVRivXTJIbla",
        "outputId": "cd08939e-7469-429b-882f-07137ec6147d",
        "colab": {
          "base_uri": "https://localhost:8080/"
        }
      },
      "execution_count": null,
      "outputs": [
        {
          "output_type": "stream",
          "name": "stdout",
          "text": [
            "HIHI\n"
          ]
        }
      ]
    },
    {
      "cell_type": "markdown",
      "source": [
        "##Functions"
      ],
      "metadata": {
        "id": "CHrMKuMZJ40T"
      }
    },
    {
      "cell_type": "code",
      "source": [
        "# void Delete(int userid){\n",
        "# delete(userid):\n",
        "#}\n",
        "\n",
        "def delete_user(userid):\n",
        "  print(\"successfully deleted user:{}\".format(userid))\n",
        "def delete_all_users():\n",
        "  print(\"successfully deleted all users\")"
      ],
      "metadata": {
        "id": "IB7IiJicJ7pR"
      },
      "execution_count": null,
      "outputs": []
    },
    {
      "cell_type": "code",
      "source": [
        "userid= 202014282\n",
        "delete_user(202014282)\n",
        "delete_all_users()"
      ],
      "metadata": {
        "id": "G66DxslAKlyJ",
        "outputId": "99e273b6-994b-48d4-ddc5-2e4d865f4f27",
        "colab": {
          "base_uri": "https://localhost:8080/"
        }
      },
      "execution_count": null,
      "outputs": [
        {
          "output_type": "stream",
          "name": "stdout",
          "text": [
            "successfully deleted user:202014282\n",
            "successfully deleted all users\n"
          ]
        }
      ]
    },
    {
      "cell_type": "code",
      "source": [
        "def add(addend1,addend2):\n",
        "  print(\"I know how to add addend1 and addend2\")\n",
        "  return addend1 + addend2\n",
        "\n",
        "def power_of_base2(exponent):\n",
        "  return 2**exponent\n",
        "\n",
        "addend1 = 4\n",
        "addend2 = 8\n",
        "\n",
        "exponent= 5\n",
        "\n",
        "add(addend1,addend2)\n",
        "power_of_base2(exponent)"
      ],
      "metadata": {
        "id": "ZQ2NBeJFK8d0",
        "outputId": "23ef4d7f-2a6a-4b4b-98f0-5eb602220e12",
        "colab": {
          "base_uri": "https://localhost:8080/"
        }
      },
      "execution_count": null,
      "outputs": [
        {
          "output_type": "stream",
          "name": "stdout",
          "text": [
            "I know how to add addend1 and addend2\n"
          ]
        },
        {
          "output_type": "execute_result",
          "data": {
            "text/plain": [
              "32"
            ]
          },
          "metadata": {},
          "execution_count": 28
        }
      ]
    },
    {
      "cell_type": "code",
      "source": [
        "add(addend1, addend2)"
      ],
      "metadata": {
        "id": "K5sUwP5ANqsp",
        "outputId": "71bd5a78-3e52-4d62-f573-b5db30e3c073",
        "colab": {
          "base_uri": "https://localhost:8080/"
        }
      },
      "execution_count": null,
      "outputs": [
        {
          "output_type": "stream",
          "name": "stdout",
          "text": [
            "I know how to add addend1 and addend2\n"
          ]
        },
        {
          "output_type": "execute_result",
          "data": {
            "text/plain": [
              "12"
            ]
          },
          "metadata": {},
          "execution_count": 29
        }
      ]
    },
    {
      "cell_type": "code",
      "source": [
        "print()\n",
        "name = input('Your name is');\n",
        "prelim = float(input('prelim grade'));\n",
        "midterm = float(input('midterm grade'));\n",
        "final = float(input('final grade'));\n",
        "sem_grade = (prelim*0.30) + (midterm*0.30) + (final*0.40);\n",
        "\n",
        "sem_grade = \"{:.2f}\". format(sem_grade)\n",
        "\n",
        "print();\n",
        "print(\"Good day!,\", name, );\n",
        "if float(sem_grade) > 70.00:\n",
        "  print(\"your grade is\", sem_grade, \"\\U0001F600\");\n",
        "elif float(sem_grade) == 70.00:\n",
        "  print(\"your grade is\", sem_grade, \"\\U0001F601\");\n",
        "elif float( sem_grade) < 70.00:\n",
        "  print(\"you grade is\", sem_grade,\"\\U0001F62D\")\n",
        "  print();"
      ],
      "metadata": {
        "id": "kklZyb0tFKOu",
        "colab": {
          "base_uri": "https://localhost:8080/"
        },
        "outputId": "5404bf79-356d-4b1a-c7c1-a524c49a3601"
      },
      "execution_count": null,
      "outputs": [
        {
          "output_type": "stream",
          "name": "stdout",
          "text": [
            "\n",
            "Your name is Joshua S. Takeuchi\n",
            "prelim grade 88.9\n",
            "midterm grade 88\n",
            "final grade 88.5\n",
            "\n",
            "Good day!,  Joshua S. Takeuchi\n",
            "your grade is 88.47 😀\n"
          ]
        }
      ]
    },
    {
      "cell_type": "markdown",
      "source": [
        ""
      ],
      "metadata": {
        "id": "hN_jyOPsPsvc"
      }
    }
  ]
}