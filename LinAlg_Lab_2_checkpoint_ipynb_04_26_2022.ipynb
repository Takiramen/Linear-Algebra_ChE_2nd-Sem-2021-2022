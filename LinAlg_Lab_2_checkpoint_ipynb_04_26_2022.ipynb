{
  "nbformat": 4,
  "nbformat_minor": 0,
  "metadata": {
    "colab": {
      "name": "LinAlg Lab 2-checkpoint.ipynb_04/26/2022",
      "provenance": [],
      "collapsed_sections": [],
      "authorship_tag": "ABX9TyNLhzoV5ItGUpN8VkqYqyBj",
      "include_colab_link": true
    },
    "kernelspec": {
      "name": "python3",
      "display_name": "Python 3"
    },
    "language_info": {
      "name": "python"
    }
  },
  "cells": [
    {
      "cell_type": "markdown",
      "metadata": {
        "id": "view-in-github",
        "colab_type": "text"
      },
      "source": [
        "<a href=\"https://colab.research.google.com/github/Takiramen/Linear-Algebra_ChE_2nd-Sem-2021-2022/blob/main/LinAlg_Lab_2_checkpoint_ipynb_04_26_2022.ipynb\" target=\"_parent\"><img src=\"https://colab.research.google.com/assets/colab-badge.svg\" alt=\"Open In Colab\"/></a>"
      ]
    },
    {
      "cell_type": "code",
      "execution_count": null,
      "metadata": {
        "id": "UD058VbulYzY"
      },
      "outputs": [],
      "source": [
        ""
      ]
    },
    {
      "cell_type": "markdown",
      "source": [
        "# Lab 2 - Plotting Vector using NumPy and MatPlotLib"
      ],
      "metadata": {
        "id": "8nnIxlTUlo4Y"
      }
    },
    {
      "cell_type": "markdown",
      "source": [
        "### Objectives\n",
        "At the end of this activity you will be able to:\n",
        "1. Be familiar with the libraries in Python for numerical and scientific programming.\n",
        "2. Visualize vectors through Python programming.\n",
        "3. Perform simple vector operations through code."
      ],
      "metadata": {
        "id": "hBe_apcslvwr"
      }
    },
    {
      "cell_type": "markdown",
      "source": [
        "## Discussion"
      ],
      "metadata": {
        "id": "q29a3Pbtlxkl"
      }
    },
    {
      "cell_type": "markdown",
      "source": [
        "### NumPy"
      ],
      "metadata": {
        "id": "Tlz7iiF9l0Gy"
      }
    },
    {
      "cell_type": "markdown",
      "source": [
        "NumPy or Numerical Python, is mainly used for matrix and vector operations. It is capable of declaring computing and representing matrices. Most Python scientific programming libraries uses NumPy as the basic code."
      ],
      "metadata": {
        "id": "y29chZnAl2QJ"
      }
    },
    {
      "cell_type": "markdown",
      "source": [
        "Scalars \\\\\n",
        "Represent magnitude or a single value\n",
        "\n",
        "Vectors \\\\\n",
        "Represent magnitude with directors"
      ],
      "metadata": {
        "id": "vqPH1tdql3uE"
      }
    },
    {
      "cell_type": "markdown",
      "source": [
        "#### Representing Vectors"
      ],
      "metadata": {
        "id": "msfjN8GJl50G"
      }
    },
    {
      "cell_type": "markdown",
      "source": [
        "Now that you know how to represent vectors using their component and matrix form we can now hard-code them in Python. Let's say that you have the vectors:"
      ],
      "metadata": {
        "id": "Nj7dsrRMl7xv"
      }
    },
    {
      "cell_type": "markdown",
      "source": [
        "$$ A = 4\\hat{x} + 3\\hat{y} \\\\\n",
        "B = 2\\hat{x} - 5\\hat{y}\\\\\n",
        "C = 4ax + 3ay - 2az \\\\\n",
        "D = 2\\hat{i} - 2\\hat{j} + 3\\hat{k}$$"
      ],
      "metadata": {
        "id": "jENSp3TLl9pD"
      }
    },
    {
      "cell_type": "markdown",
      "source": [
        "In which it's matrix equivalent is:"
      ],
      "metadata": {
        "id": "NQk_uZsZl_rp"
      }
    },
    {
      "cell_type": "markdown",
      "source": [
        "$$ A = \\begin{bmatrix} 4 \\\\ 3\\end{bmatrix} , B = \\begin{bmatrix} 2 \\\\ -5\\end{bmatrix} , C = \\begin{bmatrix} 4 \\\\ 3 \\\\  -2 \\end{bmatrix}, D = \\begin{bmatrix} 2 \\\\ -2 \\\\ 3\\end{bmatrix}\n",
        "$$\n",
        "$$ A = \\begin{bmatrix} 4 & 3\\end{bmatrix} , B = \\begin{bmatrix} 2 & -5\\end{bmatrix} , C = \\begin{bmatrix} 4 & 3 & -2\\end{bmatrix} , D = \\begin{bmatrix} 2 & -2 & 3\\end{bmatrix} \n",
        "$$"
      ],
      "metadata": {
        "id": "ZykCvyEzmBn0"
      }
    },
    {
      "cell_type": "markdown",
      "source": [
        "We can then start doing numpy code with this by:"
      ],
      "metadata": {
        "id": "bcGb2CVsmD3m"
      }
    },
    {
      "cell_type": "code",
      "source": [
        "## Importing necessary libraries\n",
        "import numpy as np ## 'np' here is short-hand name of the library (numpy) or a nickname."
      ],
      "metadata": {
        "id": "M1dnrJ8kmIAt"
      },
      "execution_count": null,
      "outputs": []
    },
    {
      "cell_type": "code",
      "metadata": {
        "colab": {
          "base_uri": "https://localhost:8080/"
        },
        "id": "KGr4fBg0Hs4j",
        "outputId": "7b8f0f0a-7ff2-4623-e1d1-9a08c86e9d75"
      },
      "source": [
        "A = np.array([4, 3])\n",
        "B = np.array([2, -5])\n",
        "C = np.array([\n",
        "              [4],\n",
        "              [3],\n",
        "              [-2]\n",
        "])\n",
        "D = np.array ([[2],\n",
        "              [-2],\n",
        "              [3]])\n",
        "print('Vector A is ', A)\n",
        "print('Vector B is ', B)\n",
        "print('Vector C is ', C)\n",
        "print('Vector D is ', D)"
      ],
      "execution_count": null,
      "outputs": [
        {
          "output_type": "stream",
          "name": "stdout",
          "text": [
            "Vector A is  [4 3]\n",
            "Vector B is  [ 2 -5]\n",
            "Vector C is  [[ 4]\n",
            " [ 3]\n",
            " [-2]]\n",
            "Vector D is  [[ 2]\n",
            " [-2]\n",
            " [ 3]]\n"
          ]
        }
      ]
    },
    {
      "cell_type": "markdown",
      "source": [
        "#### Describing vectors in NumPy"
      ],
      "metadata": {
        "id": "LeICQzfBmT-E"
      }
    },
    {
      "cell_type": "markdown",
      "source": [
        "Describing vectors is very important if we want to perform basic to advanced operations with them. The fundamental ways in describing vectors are knowing their shape, size and dimensions."
      ],
      "metadata": {
        "id": "n3_z0a0ZmVYp"
      }
    },
    {
      "cell_type": "code",
      "source": [
        "### Checking shapes\n",
        "### Shapes tells us how many elements are there on each row and column\n",
        "\n",
        "A.shape\n",
        "H = np.array([1, 0, 2, 5, -0.2, 0])\n",
        "H.shape\n",
        "C.shape"
      ],
      "metadata": {
        "colab": {
          "base_uri": "https://localhost:8080/"
        },
        "id": "ARU55V3dmYk9",
        "outputId": "ded5d1ea-5e7f-4c53-c781-8636f2fda9a2"
      },
      "execution_count": null,
      "outputs": [
        {
          "output_type": "execute_result",
          "data": {
            "text/plain": [
              "(3, 1)"
            ]
          },
          "metadata": {},
          "execution_count": 3
        }
      ]
    },
    {
      "cell_type": "code",
      "metadata": {
        "colab": {
          "base_uri": "https://localhost:8080/"
        },
        "id": "dlDEokrAHs4o",
        "outputId": "87870e89-b9a6-4692-8c32-17c92a056205"
      },
      "source": [
        "### Checking size\n",
        "### Array/Vector sizes tells us many total number of elements are there in the vector\n",
        "\n",
        "D.size"
      ],
      "execution_count": null,
      "outputs": [
        {
          "output_type": "execute_result",
          "data": {
            "text/plain": [
              "3"
            ]
          },
          "metadata": {},
          "execution_count": 4
        }
      ]
    },
    {
      "cell_type": "code",
      "source": [
        "### Checking dimensions\n",
        "### The dimensions or rank of a vector tells us how many dimensions are there for the vector.\n",
        "\n",
        "D.ndim"
      ],
      "metadata": {
        "colab": {
          "base_uri": "https://localhost:8080/"
        },
        "id": "QkQ1_xHSmec1",
        "outputId": "03563f42-8137-4128-a1f3-af408d31edfd"
      },
      "execution_count": null,
      "outputs": [
        {
          "output_type": "execute_result",
          "data": {
            "text/plain": [
              "2"
            ]
          },
          "metadata": {},
          "execution_count": 5
        }
      ]
    },
    {
      "cell_type": "markdown",
      "source": [
        "#### Addition"
      ],
      "metadata": {
        "id": "Z8q7H_qhmj69"
      }
    },
    {
      "cell_type": "markdown",
      "source": [
        "The addition rule is simple, the we just need to add the elements of the matrices according to their index. So in this case if we add vector $A$ and vector $B$ we will have a resulting vector:"
      ],
      "metadata": {
        "id": "F3JpLnA0mlLe"
      }
    },
    {
      "cell_type": "markdown",
      "source": [
        "$$R = 6\\hat{x}-2\\hat{y} \\\\ \\\\or \\\\ \\\\ R = \\begin{bmatrix} 6 \\\\ -2\\end{bmatrix} $$"
      ],
      "metadata": {
        "id": "qSebwGbImnKX"
      }
    },
    {
      "cell_type": "markdown",
      "source": [
        "So let's try to do that in NumPy in several number of ways:"
      ],
      "metadata": {
        "id": "upzfEQKDmpIQ"
      }
    },
    {
      "cell_type": "code",
      "metadata": {
        "id": "X1D_izU4Hs4t"
      },
      "source": [
        "R = np.add(A, B) ## this is the functional method usisng the numpy library\n",
        "P = np.add(C, D)\n"
      ],
      "execution_count": null,
      "outputs": []
    },
    {
      "cell_type": "code",
      "metadata": {
        "colab": {
          "base_uri": "https://localhost:8080/"
        },
        "id": "jzH3b6dtHs4t",
        "outputId": "d68d7bb8-24f2-4acf-8eb3-5f2886656fbc"
      },
      "source": [
        "R = A + B   ## this is the explicit method, since Python does a value-reference so it can \n",
        "            ## know that these variables would need to do array operations.\n",
        "R"
      ],
      "execution_count": null,
      "outputs": [
        {
          "output_type": "execute_result",
          "data": {
            "text/plain": [
              "array([ 6, -2])"
            ]
          },
          "metadata": {},
          "execution_count": 7
        }
      ]
    },
    {
      "cell_type": "code",
      "source": [
        "pos1 = np.array([0,0,0])\n",
        "pos2 = np.array([0,1,3])\n",
        "pos3 = np.array([1,5,-2])\n",
        "pos4 = np.array([5,-3,3])\n",
        "#R = pos1 + pos2 + pos3 + pos4\n",
        "#R = np.multiply(pos3, pos4)\n",
        "R = pos3 / pos4\n",
        "R"
      ],
      "metadata": {
        "colab": {
          "base_uri": "https://localhost:8080/"
        },
        "id": "KdpL_Tnmm0fg",
        "outputId": "e46b2cb4-eb42-4d0e-d82c-ab9a626e8664"
      },
      "execution_count": null,
      "outputs": [
        {
          "output_type": "execute_result",
          "data": {
            "text/plain": [
              "array([ 0.2       , -1.66666667, -0.66666667])"
            ]
          },
          "metadata": {},
          "execution_count": 8
        }
      ]
    },
    {
      "cell_type": "markdown",
      "source": [
        "##### Try for yourself!"
      ],
      "metadata": {
        "id": "l3m_BiP7m2-5"
      }
    },
    {
      "cell_type": "markdown",
      "source": [
        "Try to implement subtraction, multiplication, and division with vectors $A$ and $B$!"
      ],
      "metadata": {
        "id": "ofjZHBi6m5NE"
      }
    },
    {
      "cell_type": "code",
      "source": [
        "### Try out you code here! "
      ],
      "metadata": {
        "id": "xsGtCNsIm7xn"
      },
      "execution_count": null,
      "outputs": []
    },
    {
      "cell_type": "markdown",
      "source": [
        "### Scaling"
      ],
      "metadata": {
        "id": "LD_p3C9xm-Kr"
      }
    },
    {
      "cell_type": "markdown",
      "source": [
        "Scaling or scalar multiplication takes a scalar value and performs multiplication with a vector. Let's take the example below:"
      ],
      "metadata": {
        "id": "ldZ02p6RnCj6"
      }
    },
    {
      "cell_type": "markdown",
      "source": [
        "$$S = 5 \\cdot A$$"
      ],
      "metadata": {
        "id": "_Qp71hCHnD45"
      }
    },
    {
      "cell_type": "markdown",
      "source": [
        "We can do this in numpy through:"
      ],
      "metadata": {
        "id": "HQAaaZF8nGDK"
      }
    },
    {
      "cell_type": "code",
      "source": [
        "#S = 5 * A\n",
        "S = np.multiply(5,A)\n",
        "S"
      ],
      "metadata": {
        "colab": {
          "base_uri": "https://localhost:8080/"
        },
        "id": "8h5p5AmWnIRb",
        "outputId": "905c129f-9c3a-450a-89d6-7da2f86e573a"
      },
      "execution_count": null,
      "outputs": [
        {
          "output_type": "execute_result",
          "data": {
            "text/plain": [
              "array([20, 15])"
            ]
          },
          "metadata": {},
          "execution_count": 9
        }
      ]
    },
    {
      "cell_type": "markdown",
      "source": [
        "Try to implement scaling with two vectors."
      ],
      "metadata": {
        "id": "F8ZwwusknL3z"
      }
    },
    {
      "cell_type": "code",
      "source": [
        ""
      ],
      "metadata": {
        "id": "HKAwICdJnQlF"
      },
      "execution_count": null,
      "outputs": []
    },
    {
      "cell_type": "markdown",
      "source": [
        "### MatPlotLib"
      ],
      "metadata": {
        "id": "wTu6-Tw1nTK-"
      }
    },
    {
      "cell_type": "markdown",
      "source": [
        "MatPlotLib or MATLab Plotting library is Python's take on MATLabs plotting feature. MatPlotLib can be used vastly from graping values to visualizing several dimensions of data."
      ],
      "metadata": {
        "id": "jKMrFPAWnVNd"
      }
    },
    {
      "cell_type": "markdown",
      "source": [
        "#### Visualizing Data"
      ],
      "metadata": {
        "id": "dw3Z62lqnW8M"
      }
    },
    {
      "cell_type": "markdown",
      "source": [
        "It's not enough just solving these vectors so might need to visualize them. So we'll use MatPlotLib for that. We'll need to import it first."
      ],
      "metadata": {
        "id": "Yl_Yv9DKnZO5"
      }
    },
    {
      "cell_type": "code",
      "source": [
        "import matplotlib.pyplot as plt\n",
        "import matplotlib\n",
        "%matplotlib inline"
      ],
      "metadata": {
        "id": "3jrevy5SnbYl"
      },
      "execution_count": null,
      "outputs": []
    },
    {
      "cell_type": "code",
      "source": [
        "A = [1, -1]\n",
        "B = [5, -1]\n",
        "plt.scatter(A[0], A[1], label='A', c='blue')\n",
        "plt.scatter(B[0], B[1], label='B', c='yellow')\n",
        "plt.grid()\n",
        "plt.legend()\n",
        "plt.show()"
      ],
      "metadata": {
        "colab": {
          "base_uri": "https://localhost:8080/",
          "height": 265
        },
        "id": "Vs_TXXxHner4",
        "outputId": "1446a117-1561-4253-bbe1-e27fafdef71c"
      },
      "execution_count": null,
      "outputs": [
        {
          "output_type": "display_data",
          "data": {
            "text/plain": [
              "<Figure size 432x288 with 1 Axes>"
            ],
            "image/png": "[encoded data removed]"
          },
          "metadata": {
            "needs_background": "light"
          }
        }
      ]
    },
    {
      "cell_type": "code",
      "source": [
        "A = np.array([1, -1])\n",
        "B = np.array([1, 5])\n",
        "R = A + B\n",
        "Magnitude = np.sqrt(np.sum(R**2))\n",
        "plt.title(\"Resultant Vector\\nMagnitude:{}\" .format(Magnitude))\n",
        "plt.xlim(-5, 5)\n",
        "plt.ylim(-5, 5)\n",
        "plt.quiver(0, 0, A[0], A[1], angles='xy', scale_units='xy', scale=1, color='gray')\n",
        "plt.quiver(A[0], A[1], B[0], B[1], angles='xy', scale_units='xy', scale=1, color='blue')\n",
        "R = A + B\n",
        "plt.quiver(0, 0, R[0], R[1], angles='xy', scale_units='xy', scale=1, color='orange')\n",
        "plt.grid()\n",
        "plt.show()\n",
        "print(R)\n",
        "Magnitude = np.sqrt(np.sum(R**2))\n",
        "print(Magnitude)\n",
        "Slope = R[1]/R[0]\n",
        "print(Slope)\n",
        "Angle = (np.arctan(Slope))*(180/np.pi)\n",
        "print(Angle)"
      ],
      "metadata": {
        "colab": {
          "base_uri": "https://localhost:8080/",
          "height": 369
        },
        "id": "V6pCIEQIntFG",
        "outputId": "0138af6c-5e86-4b1f-ad7a-e52d5383e399"
      },
      "execution_count": null,
      "outputs": [
        {
          "output_type": "display_data",
          "data": {
            "text/plain": [
              "<Figure size 432x288 with 1 Axes>"
            ],
            "image/png": "[encoded data removed]"
          },
          "metadata": {
            "needs_background": "light"
          }
        },
        {
          "output_type": "stream",
          "name": "stdout",
          "text": [
            "[2 4]\n",
            "4.47213595499958\n",
            "2.0\n",
            "63.43494882292201\n"
          ]
        }
      ]
    },
    {
      "cell_type": "code",
      "source": [
        "n = A.shape[0]\n",
        "plt.xlim(-10, 10)\n",
        "plt.ylim(-10, 10)\n",
        "plt.quiver(0,0, A[0], A[1], angles='xy', scale_units='xy',scale=1)\n",
        "plt.quiver(A[0],A[1], B[0], B[1], angles='xy', scale_units='xy',scale=1)\n",
        "plt.quiver(0,0, R[0], R[1], angles='xy', scale_units='xy',scale=1)\n",
        "plt.show()"
      ],
      "metadata": {
        "colab": {
          "base_uri": "https://localhost:8080/",
          "height": 269
        },
        "id": "uv9CfAPun03R",
        "outputId": "0cd5a5c1-9b78-4a54-98a2-519ce6b991ce"
      },
      "execution_count": null,
      "outputs": [
        {
          "output_type": "display_data",
          "data": {
            "text/plain": [
              "<Figure size 432x288 with 1 Axes>"
            ],
            "image/png": "[encoded data removed]"
          },
          "metadata": {
            "needs_background": "light"
          }
        }
      ]
    },
    {
      "cell_type": "code",
      "source": [
        ""
      ],
      "metadata": {
        "id": "htQreFs6pUBj"
      },
      "execution_count": null,
      "outputs": []
    }
  ]
}