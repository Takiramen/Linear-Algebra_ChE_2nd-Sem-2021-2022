{
  "nbformat": 4,
  "nbformat_minor": 0,
  "metadata": {
    "colab": {
      "name": "Assignment6 04/06/2022",
      "provenance": [],
      "authorship_tag": "ABX9TyN0Jij6xCQNrccS4Ly2jO8i",
      "include_colab_link": true
    },
    "kernelspec": {
      "name": "python3",
      "display_name": "Python 3"
    },
    "language_info": {
      "name": "python"
    }
  },
  "cells": [
    {
      "cell_type": "markdown",
      "metadata": {
        "id": "view-in-github",
        "colab_type": "text"
      },
      "source": [
        "<a href=\"https://colab.research.google.com/github/Takiramen/Linear-Algebra_ChE_2nd-Sem-2021-2022/blob/main/Assignment6_04_06_2022.ipynb\" target=\"_parent\"><img src=\"https://colab.research.google.com/assets/colab-badge.svg\" alt=\"Open In Colab\"/></a>"
      ]
    },
    {
      "cell_type": "markdown",
      "source": [
        "# Linear Algebra for ECE\n",
        "## Laboratory 6 : Matrix Operations"
      ],
      "metadata": {
        "id": "hrCxBWd2fyob"
      }
    },
    {
      "cell_type": "markdown",
      "source": [
        "Now that you have a fundamental knowledge about representing and operating with vectors as well as the fundamentals of matrices, we'll try to the same operations with matrices and even more."
      ],
      "metadata": {
        "id": "Nk2xRkz4fz0P"
      }
    },
    {
      "cell_type": "markdown",
      "source": [
        "### Objectives\n",
        "At the end of this activity you will be able to:\n",
        "1. Be familiar with the fundamental matrix operations.\n",
        "2. Apply the operations to solve intemrediate equations.\n",
        "3. Apply matrix algebra in engineering solutions."
      ],
      "metadata": {
        "id": "teL-khLmf9O1"
      }
    },
    {
      "cell_type": "markdown",
      "source": [
        "## Transposition"
      ],
      "metadata": {
        "id": "TmeBBFMzf-_m"
      }
    },
    {
      "cell_type": "code",
      "source": [
        "import numpy as np\n",
        "import matplotlib.pyplot as plt\n",
        "%matplotlib inline"
      ],
      "metadata": {
        "id": "_xFoLjfWgBJM"
      },
      "execution_count": 3,
      "outputs": []
    },
    {
      "cell_type": "markdown",
      "source": [
        "## Transposition"
      ],
      "metadata": {
        "id": "9T6qZJPHgOFL"
      }
    },
    {
      "cell_type": "markdown",
      "source": [
        "One of the fundamental operations in matrix algebra is Transposition. The transpose of a matrix is done by flipping the values of its elements over its diagonals. With this, the rows and columns from the original matrix will be switched. So for a matrix $A$ its transpose is denoted as $A^T$. So for example:"
      ],
      "metadata": {
        "id": "bPg3t-cJgO8Y"
      }
    },
    {
      "cell_type": "markdown",
      "source": [
        "$$A = \\begin{bmatrix} 1 & 2 & 5\\\\5 & -1 &0 \\\\ 0 & -3 & 3\\end{bmatrix} $$"
      ],
      "metadata": {
        "id": "3sqP4foSgQbT"
      }
    },
    {
      "cell_type": "markdown",
      "source": [
        "This can now be achieved programmatically by using `np.transpose()` or using the `T` method."
      ],
      "metadata": {
        "id": "CyGLpW2YgSKd"
      }
    },
    {
      "cell_type": "code",
      "source": [
        "A = np.array([\n",
        "    [44 ,-12, 61],\n",
        "    [7, 10, 50],\n",
        "    [-82, -31, 34]\n",
        "])\n",
        "A"
      ],
      "metadata": {
        "colab": {
          "base_uri": "https://localhost:8080/"
        },
        "id": "OOmO6yfNgUhm",
        "outputId": "7de6e8bb-7ce0-4271-c93d-e612c95c26d0"
      },
      "execution_count": 4,
      "outputs": [
        {
          "output_type": "execute_result",
          "data": {
            "text/plain": [
              "array([[ 44, -12,  61],\n",
              "       [  7,  10,  50],\n",
              "       [-82, -31,  34]])"
            ]
          },
          "metadata": {},
          "execution_count": 4
        }
      ]
    },
    {
      "cell_type": "code",
      "source": [
        "AT1 = np.transpose(A)\n",
        "AT1"
      ],
      "metadata": {
        "colab": {
          "base_uri": "https://localhost:8080/"
        },
        "id": "r3qIp-UdgaT8",
        "outputId": "3dbbe35b-75ef-4f68-b5a0-c8ff237dc63f"
      },
      "execution_count": 5,
      "outputs": [
        {
          "output_type": "execute_result",
          "data": {
            "text/plain": [
              "array([[ 44,   7, -82],\n",
              "       [-12,  10, -31],\n",
              "       [ 61,  50,  34]])"
            ]
          },
          "metadata": {},
          "execution_count": 5
        }
      ]
    },
    {
      "cell_type": "code",
      "source": [
        "AT2 = A.T\n",
        "AT2"
      ],
      "metadata": {
        "colab": {
          "base_uri": "https://localhost:8080/"
        },
        "id": "ZeUZ3gmDgc6_",
        "outputId": "3b1da68c-f974-4469-d0c9-5054963cb1e6"
      },
      "execution_count": 6,
      "outputs": [
        {
          "output_type": "execute_result",
          "data": {
            "text/plain": [
              "array([[ 44,   7, -82],\n",
              "       [-12,  10, -31],\n",
              "       [ 61,  50,  34]])"
            ]
          },
          "metadata": {},
          "execution_count": 6
        }
      ]
    },
    {
      "cell_type": "code",
      "source": [
        "np.array_equiv(AT1, AT2)"
      ],
      "metadata": {
        "colab": {
          "base_uri": "https://localhost:8080/"
        },
        "id": "0gxtvbI0gj4V",
        "outputId": "ce6f53b8-4181-4221-80c9-e9d7db38876c"
      },
      "execution_count": 7,
      "outputs": [
        {
          "output_type": "execute_result",
          "data": {
            "text/plain": [
              "True"
            ]
          },
          "metadata": {},
          "execution_count": 7
        }
      ]
    },
    {
      "cell_type": "code",
      "source": [
        "B = np.array([\n",
        "    [65,12,23,74],\n",
        "    [144,120,23,11],\n",
        "    [88,65,21,-5],\n",
        "    [91,52,12,278]\n",
        "])\n",
        "B.shape"
      ],
      "metadata": {
        "colab": {
          "base_uri": "https://localhost:8080/"
        },
        "id": "ojQ6rqLKgpVn",
        "outputId": "5b7c0601-acc9-4dff-dca0-20efc79071ea"
      },
      "execution_count": 8,
      "outputs": [
        {
          "output_type": "execute_result",
          "data": {
            "text/plain": [
              "(4, 4)"
            ]
          },
          "metadata": {},
          "execution_count": 8
        }
      ]
    },
    {
      "cell_type": "code",
      "source": [
        "np.transpose(B).shape"
      ],
      "metadata": {
        "colab": {
          "base_uri": "https://localhost:8080/"
        },
        "id": "VJgc51rUgyXw",
        "outputId": "b1e50bad-db7d-4c3b-98db-f8d705b22aeb"
      },
      "execution_count": 9,
      "outputs": [
        {
          "output_type": "execute_result",
          "data": {
            "text/plain": [
              "(4, 4)"
            ]
          },
          "metadata": {},
          "execution_count": 9
        }
      ]
    },
    {
      "cell_type": "code",
      "source": [
        "B.T.shape"
      ],
      "metadata": {
        "colab": {
          "base_uri": "https://localhost:8080/"
        },
        "id": "OUsNycZQg0ZG",
        "outputId": "7bd56da9-17d8-4680-e7af-fb213d8bbd6d"
      },
      "execution_count": 10,
      "outputs": [
        {
          "output_type": "execute_result",
          "data": {
            "text/plain": [
              "(4, 4)"
            ]
          },
          "metadata": {},
          "execution_count": 10
        }
      ]
    },
    {
      "cell_type": "markdown",
      "source": [
        "## Dot Product / Inner Product"
      ],
      "metadata": {
        "id": "ZmHY80naisKO"
      }
    },
    {
      "cell_type": "markdown",
      "source": [
        "If you recall the dot product from laboratory activity before, we will try to implement the same operation with matrices. In matrix dot product we are going to get the sum of products of the vectors by row-column pairs. So if we have two matrices $X$ and $Y$:\n",
        "\n",
        "$$X = \\begin{bmatrix}x_{(0,0)}&x_{(0,1)}\\\\ x_{(1,0)}&x_{(1,1)}\\end{bmatrix}, Y = \\begin{bmatrix}y_{(0,0)}&y_{(0,1)}\\\\ y_{(1,0)}&y_{(1,1)}\\end{bmatrix}$$\n",
        "\n",
        "The dot product will then be computed as:\n",
        "$$X \\cdot Y= \\begin{bmatrix} x_{(0,0)}*y_{(0,0)} + x_{(0,1)}*y_{(1,0)} & x_{(0,0)}*y_{(0,1)} + x_{(0,1)}*y_{(1,1)} \\\\  x_{(1,0)}*y_{(0,0)} + x_{(1,1)}*y_{(1,0)} & x_{(1,0)}*y_{(0,1)} + x_{(1,1)}*y_{(1,1)}\n",
        "\\end{bmatrix}$$\n",
        "\n",
        "So if we assign values to $X$ and $Y$:\n",
        "$$X = \\begin{bmatrix}1&2\\\\ 0&1\\end{bmatrix}, Y = \\begin{bmatrix}-1&0\\\\ 2&2\\end{bmatrix}$$"
      ],
      "metadata": {
        "id": "S0yBlsmCi1pJ"
      }
    },
    {
      "cell_type": "markdown",
      "source": [
        "$$X \\cdot Y= \\begin{bmatrix} 1*-1 + 2*2 & 1*0 + 2*2 \\\\  0*-1 + 1*2 & 0*0 + 1*2 \\end{bmatrix} = \\begin{bmatrix} 3 & 4 \\\\2 & 2 \\end{bmatrix}$$\n",
        "This could be achieved programmatically using `np.dot()`, `np.matmul()` or the `@` operator."
      ],
      "metadata": {
        "id": "h00dp7Cki5fK"
      }
    },
    {
      "cell_type": "code",
      "source": [
        "X = np.array([\n",
        "    [121,223,43],\n",
        "    [120,166,143],\n",
        "    [342,512,240]\n",
        "])\n",
        "Y = np.array([\n",
        "    [-155,120,209],\n",
        "    [254,221,333],\n",
        "    [666,231,553]\n",
        "])"
      ],
      "metadata": {
        "id": "FxXYWeE8i8-W"
      },
      "execution_count": 11,
      "outputs": []
    },
    {
      "cell_type": "code",
      "source": [
        "np.array_equiv(X, Y)"
      ],
      "metadata": {
        "colab": {
          "base_uri": "https://localhost:8080/"
        },
        "id": "NuYyMEXQi_z4",
        "outputId": "27eaddd0-35d3-4c17-835b-f37b2a68e52d"
      },
      "execution_count": 12,
      "outputs": [
        {
          "output_type": "execute_result",
          "data": {
            "text/plain": [
              "False"
            ]
          },
          "metadata": {},
          "execution_count": 12
        }
      ]
    },
    {
      "cell_type": "code",
      "source": [
        "np.dot(Y,X)"
      ],
      "metadata": {
        "colab": {
          "base_uri": "https://localhost:8080/"
        },
        "id": "NRLuhVVdjCW9",
        "outputId": "5ed34e98-ab04-4ed5-ecd9-afc4606b190f"
      },
      "execution_count": 13,
      "outputs": [
        {
          "output_type": "execute_result",
          "data": {
            "text/plain": [
              "array([[ 67123,  92363,  60655],\n",
              "       [171140, 263824, 122445],\n",
              "       [297432, 470000, 194391]])"
            ]
          },
          "metadata": {},
          "execution_count": 13
        }
      ]
    },
    {
      "cell_type": "code",
      "source": [
        "X.dot(Y)"
      ],
      "metadata": {
        "colab": {
          "base_uri": "https://localhost:8080/"
        },
        "id": "7zSeEamxjDT6",
        "outputId": "4dc9e622-67e9-4b37-b1eb-888f76f1b567"
      },
      "execution_count": 14,
      "outputs": [
        {
          "output_type": "execute_result",
          "data": {
            "text/plain": [
              "array([[ 66525,  73736, 123327],\n",
              "       [118802,  84119, 159437],\n",
              "       [236878, 209632, 374694]])"
            ]
          },
          "metadata": {},
          "execution_count": 14
        }
      ]
    },
    {
      "cell_type": "code",
      "source": [
        "X @ Y"
      ],
      "metadata": {
        "colab": {
          "base_uri": "https://localhost:8080/"
        },
        "id": "wl_-sv34jFOw",
        "outputId": "35b677cf-15c4-4b6d-b3c4-2c1e9ec860c0"
      },
      "execution_count": 15,
      "outputs": [
        {
          "output_type": "execute_result",
          "data": {
            "text/plain": [
              "array([[ 66525,  73736, 123327],\n",
              "       [118802,  84119, 159437],\n",
              "       [236878, 209632, 374694]])"
            ]
          },
          "metadata": {},
          "execution_count": 15
        }
      ]
    },
    {
      "cell_type": "code",
      "source": [
        "np.matmul(X,Y)"
      ],
      "metadata": {
        "colab": {
          "base_uri": "https://localhost:8080/"
        },
        "id": "acDbHQ8BjH4b",
        "outputId": "1c4ff1bb-cbdf-4225-b078-23041f8eb258"
      },
      "execution_count": 16,
      "outputs": [
        {
          "output_type": "execute_result",
          "data": {
            "text/plain": [
              "array([[ 66525,  73736, 123327],\n",
              "       [118802,  84119, 159437],\n",
              "       [236878, 209632, 374694]])"
            ]
          },
          "metadata": {},
          "execution_count": 16
        }
      ]
    },
    {
      "cell_type": "markdown",
      "source": [
        "In matrix dot products there are additional rules compared with vector dot products. Since vector dot products were just in one dimension there are less restrictions. Since now we are dealing with Rank 2 vectors we need to consider some rules:\n",
        "\n",
        "### Rule 1: The inner dimensions of the two matrices in question must be the same. \n",
        "\n",
        "So given a matrix $A$ with a shape of $(a,b)$ where $a$ and $b$ are any integers. If we want to do a dot product between $A$ and another matrix $B$, then matrix $B$ should have a shape of $(b,c)$ where $b$ and $c$ are any integers. So for given the following matrices:\n",
        "\n",
        "$$A = \\begin{bmatrix}2&4\\\\5&-2\\\\0&1\\end{bmatrix}, B = \\begin{bmatrix}1&1\\\\3&3\\\\-1&-2\\end{bmatrix}, C = \\begin{bmatrix}0&1&1\\\\1&1&2\\end{bmatrix}$$\n",
        "\n",
        "So in this case $A$ has a shape of $(3,2)$, $B$ has a shape of $(3,2)$ and $C$ has a shape of $(2,3)$. So the only matrix pairs that is eligible to perform dot product is matrices $A \\cdot C$, or $B \\cdot C$.  "
      ],
      "metadata": {
        "id": "UUvFRKzgjNt6"
      }
    },
    {
      "cell_type": "code",
      "source": [
        "A = np.array([\n",
        "    [2, 4,1,6],\n",
        "    [5, -2,3,9],\n",
        "   \n",
        "])\n",
        "B = np.array([\n",
        "    [1,1,-8,7],\n",
        "    [3,3,5,4],\n",
        "    [-1,-2,3,2]\n",
        "])\n",
        "C = np.array([\n",
        "    [0,1,1,8],\n",
        "    [1,1,2,5],\n",
        "    [7,9,-3,-1],\n",
        "    [9,12,-10,8]\n",
        "])\n",
        "print(A.shape)\n",
        "print(B.shape)\n",
        "print(C.shape)"
      ],
      "metadata": {
        "colab": {
          "base_uri": "https://localhost:8080/"
        },
        "id": "kRy3IZvmjO1I",
        "outputId": "bdf02ebb-b8f2-44cb-c46b-42df77976f21"
      },
      "execution_count": 17,
      "outputs": [
        {
          "output_type": "stream",
          "name": "stdout",
          "text": [
            "(2, 4)\n",
            "(3, 4)\n",
            "(4, 4)\n"
          ]
        }
      ]
    },
    {
      "cell_type": "markdown",
      "source": [
        "If you would notice the shape of the dot product changed and its shape is not the same as any of the matrices we used. The shape of a dot product is actually derived from the shapes of the matrices used. So recall matrix $A$ with a shape of $(a,b)$ and matrix $B$ with a shape of $(b,c)$, $A \\cdot B$ should have a shape $(a,c)$."
      ],
      "metadata": {
        "id": "9paFCCxIjTjM"
      }
    },
    {
      "cell_type": "code",
      "source": [
        "X = np.array([\n",
        "    [12,-13,43,20],\n",
        "    [66,3,15,21]\n",
        "])\n",
        "Y = np.array([\n",
        "    [12,10,24,-15],\n",
        "    [12,4,5,7]\n",
        "])\n",
        "print(X.shape)\n",
        "print(Y.T.shape)"
      ],
      "metadata": {
        "colab": {
          "base_uri": "https://localhost:8080/"
        },
        "id": "kI_qXCzBjcAs",
        "outputId": "f452e987-4333-4b9b-90a9-8a1ae08e5cd6"
      },
      "execution_count": 18,
      "outputs": [
        {
          "output_type": "stream",
          "name": "stdout",
          "text": [
            "(2, 4)\n",
            "(4, 2)\n"
          ]
        }
      ]
    },
    {
      "cell_type": "code",
      "source": [
        "Y.T @ X"
      ],
      "metadata": {
        "colab": {
          "base_uri": "https://localhost:8080/"
        },
        "id": "atmw71HmjeAi",
        "outputId": "fec7998d-d0ea-4ed9-b85a-1f58e89162da"
      },
      "execution_count": 19,
      "outputs": [
        {
          "output_type": "execute_result",
          "data": {
            "text/plain": [
              "array([[ 936, -120,  696,  492],\n",
              "       [ 384, -118,  490,  284],\n",
              "       [ 618, -297, 1107,  585],\n",
              "       [ 282,  216, -540, -153]])"
            ]
          },
          "metadata": {},
          "execution_count": 19
        }
      ]
    },
    {
      "cell_type": "code",
      "source": [
        "And youcan see that when you try to multiply A and B, it returns ValueError pertaining to matrix shape mismatch."
      ],
      "metadata": {
        "id": "QCWy38FZjhHc"
      },
      "execution_count": null,
      "outputs": []
    },
    {
      "cell_type": "markdown",
      "source": [
        "Rule 2: Dot Product has special properties"
      ],
      "metadata": {
        "id": "FwNgzfSyjn7b"
      }
    },
    {
      "cell_type": "markdown",
      "source": [
        "### Rule 2: Dot Product has special properties\n",
        "\n",
        "Dot products are prevalent in matrix algebra, this implies that it has several unique properties and it should be considered when formulation solutions:\n",
        " 1. $A \\cdot B \\neq B \\cdot A$\n",
        " 2. $A \\cdot (B \\cdot C) = (A \\cdot B) \\cdot C$\n",
        " 3. $A\\cdot(B+C) = A\\cdot B + A\\cdot C$\n",
        " 4. $(B+C)\\cdot A = B\\cdot A + C\\cdot A$\n",
        " 5. $A\\cdot I = A$\n",
        " 6. $A\\cdot \\emptyset = \\emptyset$ "
      ],
      "metadata": {
        "id": "fMCzJtybkSqh"
      }
    },
    {
      "cell_type": "code",
      "source": [
        "XY = np.array([\n",
        "              [90, 15, 60, 70,20],\n",
        "               [22,51,1,21,779],\n",
        "               [80,144,222,661,334],\n",
        "               [70,1244,66,211,221],\n",
        "               [622,713,44,331,612]\n",
        "])\n",
        "\n",
        "TX = np.array([\n",
        "               [112,66,211,666,331],\n",
        "               [77,713,845,789,12],\n",
        "               [34,222,124,677,51],\n",
        "               [612,12,221,77,712],\n",
        "               [62,51,22,442,232]\n",
        "\n",
        "])\n"
      ],
      "metadata": {
        "id": "VS0Os4CZkUvZ"
      },
      "execution_count": 20,
      "outputs": []
    },
    {
      "cell_type": "markdown",
      "source": [
        "1. $A \\cdot B \\neq B \\cdot A$"
      ],
      "metadata": {
        "id": "GEftYQy-kYlj"
      }
    },
    {
      "cell_type": "code",
      "source": [
        "np.dot(XY,TX)"
      ],
      "metadata": {
        "colab": {
          "base_uri": "https://localhost:8080/"
        },
        "id": "z3RqIOynkbPp",
        "outputId": "70a151aa-8689-4c20-920e-4d439a78878d"
      },
      "execution_count": 21,
      "outputs": [
        {
          "output_type": "execute_result",
          "data": {
            "text/plain": [
              "array([[  57355,   31815,   55015,  126625,   87510],\n",
              "       [  67575,   78018,   69640,  401503,  203625],\n",
              "       [ 452836,  182202,  319517,  515715,  587650],\n",
              "       [ 248706,  920047, 1125627, 1186747,  242968],\n",
              "       [ 366577,  594373,  825798, 1302588,  594338]])"
            ]
          },
          "metadata": {},
          "execution_count": 21
        }
      ]
    },
    {
      "cell_type": "code",
      "source": [
        "np.dot(TX,XY)"
      ],
      "metadata": {
        "colab": {
          "base_uri": "https://localhost:8080/"
        },
        "id": "s8vdnrAOkeCA",
        "outputId": "b78c181b-38fe-4181-db64-0daf203483a9"
      },
      "execution_count": 22,
      "outputs": [
        {
          "output_type": "execute_result",
          "data": {
            "text/plain": [
              "array([[ 280914, 1099937,  112148,  398784,  473886],\n",
              "       [ 152910, 1149270,  245525,  749359, 1020910],\n",
              "       [  96976,  908239,   76716,  248734,  395863],\n",
              "       [ 521278,  645060,  122204,  441092,  548163],\n",
              "       [ 183706,  721963,   48035,  190007,  287983]])"
            ]
          },
          "metadata": {},
          "execution_count": 22
        }
      ]
    },
    {
      "cell_type": "code",
      "source": [
        "np.array_equiv(XY, TX)"
      ],
      "metadata": {
        "colab": {
          "base_uri": "https://localhost:8080/"
        },
        "id": "53ILZCcVkf2I",
        "outputId": "67788b66-d917-4061-c726-f7d580edc833"
      },
      "execution_count": 23,
      "outputs": [
        {
          "output_type": "execute_result",
          "data": {
            "text/plain": [
              "False"
            ]
          },
          "metadata": {},
          "execution_count": 23
        }
      ]
    },
    {
      "cell_type": "code",
      "source": [
        "U = ([\n",
        "    [5,2,1,7],\n",
        "    [8,13,61,13],\n",
        "    [9,10,7,25,],\n",
        "    [12,17,23,16]\n",
        "])\n",
        "\n",
        "V = ([\n",
        "      [29, 43,42,11],\n",
        "      [17,14,15,22],\n",
        "      [29,5,67,78],\n",
        "      [19,78,87,91,]\n",
        "])\n",
        "\n",
        "W = ([\n",
        "      [16,26,29,13],\n",
        "      [155, 14, 122,156],\n",
        "      [3, 57, 64, 53,],\n",
        "      [110,61,51,79]\n",
        "])"
      ],
      "metadata": {
        "id": "U-u5Sv6gkiP1"
      },
      "execution_count": 24,
      "outputs": []
    },
    {
      "cell_type": "markdown",
      "source": [
        "2.\n",
        "$U \\cdot (V \\cdot W) = (U \\cdot V) \\cdot W$"
      ],
      "metadata": {
        "id": "aoVMVVfEklUg"
      }
    },
    {
      "cell_type": "code",
      "source": [
        "zealot1 = np.dot(V,W)\n",
        "zealot1"
      ],
      "metadata": {
        "colab": {
          "base_uri": "https://localhost:8080/"
        },
        "id": "qpcXXNpAkmpe",
        "outputId": "9ecc456b-af09-4d8e-c681-3b6a06b5c091"
      },
      "execution_count": 25,
      "outputs": [
        {
          "output_type": "execute_result",
          "data": {
            "text/plain": [
              "array([[ 8465,  4421,  9336, 10180],\n",
              "       [ 4907,  2835,  4283,  4938],\n",
              "       [10020,  9401,  9717, 10870],\n",
              "       [22665, 12096, 20276, 24215]])"
            ]
          },
          "metadata": {},
          "execution_count": 25
        }
      ]
    },
    {
      "cell_type": "code",
      "source": [
        "prod1 = np.dot(U,zealot1)\n",
        "prod1"
      ],
      "metadata": {
        "colab": {
          "base_uri": "https://localhost:8080/"
        },
        "id": "y_x3alDPkpx8",
        "outputId": "1e9069f4-6229-4d4f-d977-0d4ce967e793"
      },
      "execution_count": 26,
      "outputs": [
        {
          "output_type": "execute_result",
          "data": {
            "text/plain": [
              "array([[ 220814,  121848,  206895,  241151],\n",
              "       [1037376,  802932,  986692, 1123499],\n",
              "       [ 762020,  436346,  701773,  822465],\n",
              "       [ 778099,  511006,  732750,  843556]])"
            ]
          },
          "metadata": {},
          "execution_count": 26
        }
      ]
    },
    {
      "cell_type": "code",
      "source": [
        "zealot2 = np.dot(U,V)\n",
        "zealot2"
      ],
      "metadata": {
        "colab": {
          "base_uri": "https://localhost:8080/"
        },
        "id": "FUKepPkNkr5i",
        "outputId": "a89d091b-d1c7-440d-b325-8d5872ca0124"
      },
      "execution_count": 27,
      "outputs": [
        {
          "output_type": "execute_result",
          "data": {
            "text/plain": [
              "array([[ 341,  794,  916,  814],\n",
              "       [2469, 1845, 5749, 6315],\n",
              "       [1109, 2512, 3172, 3140],\n",
              "       [1608, 2117, 3692, 3756]])"
            ]
          },
          "metadata": {},
          "execution_count": 27
        }
      ]
    },
    {
      "cell_type": "code",
      "source": [
        "prod2 = np.dot(zealot2,W)\n",
        "prod2"
      ],
      "metadata": {
        "colab": {
          "base_uri": "https://localhost:8080/"
        },
        "id": "zJl7daSnkuiT",
        "outputId": "fca39568-8aee-4e55-dbe0-69fc3197aa99"
      },
      "execution_count": 28,
      "outputs": [
        {
          "output_type": "execute_result",
          "data": {
            "text/plain": [
              "array([[ 220814,  121848,  206895,  241151],\n",
              "       [1037376,  802932,  986692, 1123499],\n",
              "       [ 762020,  436346,  701773,  822465],\n",
              "       [ 778099,  511006,  732750,  843556]])"
            ]
          },
          "metadata": {},
          "execution_count": 28
        }
      ]
    },
    {
      "cell_type": "code",
      "source": [
        "np.array_equiv(prod1,prod2)"
      ],
      "metadata": {
        "colab": {
          "base_uri": "https://localhost:8080/"
        },
        "id": "ie2BkZb1kxng",
        "outputId": "4d1134aa-99ee-4a06-a5c9-a62bc013103b"
      },
      "execution_count": 29,
      "outputs": [
        {
          "output_type": "execute_result",
          "data": {
            "text/plain": [
              "True"
            ]
          },
          "metadata": {},
          "execution_count": 29
        }
      ]
    },
    {
      "cell_type": "markdown",
      "source": [
        "## $U\\cdot(V+W) = U\\cdot V + U\\cdot W$"
      ],
      "metadata": {
        "id": "_bAcfxZuk8DP"
      }
    },
    {
      "cell_type": "code",
      "source": [
        "U = ([\n",
        "    [5,2,1,7],\n",
        "    [8,13,61,13],\n",
        "    [9,10,7,25,],\n",
        "    [12,17,23,16]\n",
        "])\n",
        "\n",
        "V = ([\n",
        "      [29, 43,42,11],\n",
        "      [17,14,15,22],\n",
        "      [29,5,67,78],\n",
        "      [19,78,87,91]\n",
        "])\n",
        "\n",
        "W = ([\n",
        "      [16,26,29,13],\n",
        "      [155, 14, 122,156],\n",
        "      [3, 57, 64, 53,],\n",
        "      [110,61,51,79]\n",
        "])   \n",
        "sum1 = np.add(V,W)\n",
        "sum1"
      ],
      "metadata": {
        "colab": {
          "base_uri": "https://localhost:8080/"
        },
        "id": "7RiAHegsk9Jl",
        "outputId": "6450118e-e92e-4fde-cb94-406f7202cec3"
      },
      "execution_count": 31,
      "outputs": [
        {
          "output_type": "execute_result",
          "data": {
            "text/plain": [
              "array([[ 45,  69,  71,  24],\n",
              "       [172,  28, 137, 178],\n",
              "       [ 32,  62, 131, 131],\n",
              "       [129, 139, 138, 170]])"
            ]
          },
          "metadata": {},
          "execution_count": 31
        }
      ]
    },
    {
      "cell_type": "code",
      "source": [
        "sum2 = np.dot(U,sum1)\n",
        "sum2"
      ],
      "metadata": {
        "colab": {
          "base_uri": "https://localhost:8080/"
        },
        "id": "pe8tNmY8lCKu",
        "outputId": "d0415fbb-1de3-4113-e996-d9ffdba544cd"
      },
      "execution_count": 32,
      "outputs": [
        {
          "output_type": "execute_result",
          "data": {
            "text/plain": [
              "array([[ 1504,  1436,  1726,  1797],\n",
              "       [ 6225,  6505, 12134, 12707],\n",
              "       [ 5574,  4810,  6376,  7163],\n",
              "       [ 6264,  4954,  8402,  9047]])"
            ]
          },
          "metadata": {},
          "execution_count": 32
        }
      ]
    },
    {
      "cell_type": "code",
      "source": [
        "sum3 = np.dot(U,V)+ np.dot (U,W)\n",
        "sum3"
      ],
      "metadata": {
        "colab": {
          "base_uri": "https://localhost:8080/"
        },
        "id": "sjtT5CaxlENP",
        "outputId": "4ebb8317-0e78-49e8-dea1-90064e04b454"
      },
      "execution_count": 33,
      "outputs": [
        {
          "output_type": "execute_result",
          "data": {
            "text/plain": [
              "array([[ 1504,  1436,  1726,  1797],\n",
              "       [ 6225,  6505, 12134, 12707],\n",
              "       [ 5574,  4810,  6376,  7163],\n",
              "       [ 6264,  4954,  8402,  9047]])"
            ]
          },
          "metadata": {},
          "execution_count": 33
        }
      ]
    },
    {
      "cell_type": "code",
      "source": [
        "np.array_equiv(sum2,sum3)"
      ],
      "metadata": {
        "colab": {
          "base_uri": "https://localhost:8080/"
        },
        "id": "TK2U05d2lLGu",
        "outputId": "c61d2b34-f61d-4241-f7a6-ac9ee5d78813"
      },
      "execution_count": 34,
      "outputs": [
        {
          "output_type": "execute_result",
          "data": {
            "text/plain": [
              "True"
            ]
          },
          "metadata": {},
          "execution_count": 34
        }
      ]
    },
    {
      "cell_type": "markdown",
      "source": [
        "## $(V+W)\\cdot U = V\\cdot U + W\\cdot U$"
      ],
      "metadata": {
        "id": "ZdO0pny7lQ3v"
      }
    },
    {
      "cell_type": "code",
      "source": [
        "Q = np.add(V,W)\n",
        "Q"
      ],
      "metadata": {
        "colab": {
          "base_uri": "https://localhost:8080/"
        },
        "id": "J0PXNhGRlS_l",
        "outputId": "ac2e3346-ebba-410d-d9ce-aefe58962f0b"
      },
      "execution_count": 35,
      "outputs": [
        {
          "output_type": "execute_result",
          "data": {
            "text/plain": [
              "array([[ 45,  69,  71,  24],\n",
              "       [172,  28, 137, 178],\n",
              "       [ 32,  62, 131, 131],\n",
              "       [129, 139, 138, 170]])"
            ]
          },
          "metadata": {},
          "execution_count": 35
        }
      ]
    },
    {
      "cell_type": "code",
      "source": [
        "R = np.dot(Q,U)\n",
        "R"
      ],
      "metadata": {
        "colab": {
          "base_uri": "https://localhost:8080/"
        },
        "id": "DLWzHp_ElUrM",
        "outputId": "fedb11e7-27f5-483d-b11f-eab1b7f234c2"
      },
      "execution_count": 36,
      "outputs": [
        {
          "output_type": "execute_result",
          "data": {
            "text/plain": [
              "array([[ 1704,  2105,  5303,  3371],\n",
              "       [ 4453,  5104,  6933,  7841],\n",
              "       [ 3407,  4407,  7744,  6401],\n",
              "       [ 5039,  6335, 13484,  8880]])"
            ]
          },
          "metadata": {},
          "execution_count": 36
        }
      ]
    },
    {
      "cell_type": "code",
      "source": [
        "S = np.dot(V,U) + np.dot(W,U)\n",
        "S"
      ],
      "metadata": {
        "colab": {
          "base_uri": "https://localhost:8080/"
        },
        "id": "UH3idovvlWkR",
        "outputId": "b4799add-dd67-4639-af29-b244e15ef160"
      },
      "execution_count": 37,
      "outputs": [
        {
          "output_type": "execute_result",
          "data": {
            "text/plain": [
              "array([[ 1704,  2105,  5303,  3371],\n",
              "       [ 4453,  5104,  6933,  7841],\n",
              "       [ 3407,  4407,  7744,  6401],\n",
              "       [ 5039,  6335, 13484,  8880]])"
            ]
          },
          "metadata": {},
          "execution_count": 37
        }
      ]
    },
    {
      "cell_type": "code",
      "source": [
        "np.array_equiv(R,S)"
      ],
      "metadata": {
        "colab": {
          "base_uri": "https://localhost:8080/"
        },
        "id": "YZq0hr5VlZY-",
        "outputId": "c079e3f5-2ce2-4e6e-ff79-79a68cb7f5fa"
      },
      "execution_count": 38,
      "outputs": [
        {
          "output_type": "execute_result",
          "data": {
            "text/plain": [
              "True"
            ]
          },
          "metadata": {},
          "execution_count": 38
        }
      ]
    },
    {
      "cell_type": "code",
      "source": [
        "Z = np.array([\n",
        "    [65,45,21],\n",
        "    [43,75,12],\n",
        "    [72,13,54]\n",
        "])\n",
        "np.dot(Z,1)"
      ],
      "metadata": {
        "colab": {
          "base_uri": "https://localhost:8080/"
        },
        "id": "hhrrbH_3lbi-",
        "outputId": "3b2c2623-dee1-416e-d7cf-1ac17adb9d7c"
      },
      "execution_count": 39,
      "outputs": [
        {
          "output_type": "execute_result",
          "data": {
            "text/plain": [
              "array([[65, 45, 21],\n",
              "       [43, 75, 12],\n",
              "       [72, 13, 54]])"
            ]
          },
          "metadata": {},
          "execution_count": 39
        }
      ]
    },
    {
      "cell_type": "code",
      "source": [
        "Z = np.array([\n",
        "    [65,45,21],\n",
        "    [43,75,12],\n",
        "    [72,13,54]\n",
        "])\n",
        "np.dot(Z,0)"
      ],
      "metadata": {
        "colab": {
          "base_uri": "https://localhost:8080/"
        },
        "id": "9kS5F3a7lde2",
        "outputId": "3d060c14-58c7-4296-e50d-4664ed4d4cd2"
      },
      "execution_count": 40,
      "outputs": [
        {
          "output_type": "execute_result",
          "data": {
            "text/plain": [
              "array([[0, 0, 0],\n",
              "       [0, 0, 0],\n",
              "       [0, 0, 0]])"
            ]
          },
          "metadata": {},
          "execution_count": 40
        }
      ]
    },
    {
      "cell_type": "markdown",
      "source": [
        "I'll be doing just one of the properties and I'll leave the rest to test your skills!"
      ],
      "metadata": {
        "id": "29DPQUF0lhyX"
      }
    },
    {
      "cell_type": "code",
      "source": [
        "A = np.array([\n",
        "    [3,2,1],\n",
        "    [4,5,1],\n",
        "    [1,1,0]\n",
        "])\n",
        "B = np.array([\n",
        "    [4,1,6],\n",
        "    [4,1,9],\n",
        "    [1,4,8]\n",
        "])\n",
        "C = np.array([\n",
        "    [1,1,0],\n",
        "    [0,1,1],\n",
        "    [1,0,1]\n",
        "])"
      ],
      "metadata": {
        "id": "KS5bMrJpljTl"
      },
      "execution_count": 41,
      "outputs": []
    },
    {
      "cell_type": "code",
      "source": [
        "A.dot(np.zeros(A.shape))"
      ],
      "metadata": {
        "colab": {
          "base_uri": "https://localhost:8080/"
        },
        "id": "2zL7l4Eslnri",
        "outputId": "22378af6-bfb2-4fd0-e9ee-c1e89bb0926f"
      },
      "execution_count": 42,
      "outputs": [
        {
          "output_type": "execute_result",
          "data": {
            "text/plain": [
              "array([[0., 0., 0.],\n",
              "       [0., 0., 0.],\n",
              "       [0., 0., 0.]])"
            ]
          },
          "metadata": {},
          "execution_count": 42
        }
      ]
    },
    {
      "cell_type": "code",
      "source": [
        "z_mat = np.zeros(A.shape)\n",
        "z_mat"
      ],
      "metadata": {
        "colab": {
          "base_uri": "https://localhost:8080/"
        },
        "id": "PyX1Fc4ym3FK",
        "outputId": "a26feee0-0b8e-4606-9750-c90e270f3731"
      },
      "execution_count": 43,
      "outputs": [
        {
          "output_type": "execute_result",
          "data": {
            "text/plain": [
              "array([[0., 0., 0.],\n",
              "       [0., 0., 0.],\n",
              "       [0., 0., 0.]])"
            ]
          },
          "metadata": {},
          "execution_count": 43
        }
      ]
    },
    {
      "cell_type": "code",
      "source": [
        "a_dot_z = A.dot(np.zeros(A.shape))\n",
        "a_dot_z"
      ],
      "metadata": {
        "colab": {
          "base_uri": "https://localhost:8080/"
        },
        "id": "yFCOgavqm5mR",
        "outputId": "81489128-439a-4e29-a3ba-7e0fc4769e81"
      },
      "execution_count": 44,
      "outputs": [
        {
          "output_type": "execute_result",
          "data": {
            "text/plain": [
              "array([[0., 0., 0.],\n",
              "       [0., 0., 0.],\n",
              "       [0., 0., 0.]])"
            ]
          },
          "metadata": {},
          "execution_count": 44
        }
      ]
    },
    {
      "cell_type": "code",
      "source": [
        "np.array_equal(a_dot_z,z_mat)"
      ],
      "metadata": {
        "colab": {
          "base_uri": "https://localhost:8080/"
        },
        "id": "at0uiriim7Uh",
        "outputId": "b8382283-2b0c-4123-e33d-f0b60744b76e"
      },
      "execution_count": 45,
      "outputs": [
        {
          "output_type": "execute_result",
          "data": {
            "text/plain": [
              "True"
            ]
          },
          "metadata": {},
          "execution_count": 45
        }
      ]
    },
    {
      "cell_type": "code",
      "source": [
        "null_mat = np.empty(A.shape, dtype=float)\n",
        "null = np.array(null_mat,dtype=float)\n",
        "print(null)\n",
        "np.allclose(a_dot_z,null)"
      ],
      "metadata": {
        "colab": {
          "base_uri": "https://localhost:8080/"
        },
        "id": "NaGtfEFNm88H",
        "outputId": "930ae75f-8fde-496e-b746-ec72e5f20f31"
      },
      "execution_count": 46,
      "outputs": [
        {
          "output_type": "stream",
          "name": "stdout",
          "text": [
            "[[0. 0. 0.]\n",
            " [0. 0. 0.]\n",
            " [0. 0. 0.]]\n"
          ]
        },
        {
          "output_type": "execute_result",
          "data": {
            "text/plain": [
              "True"
            ]
          },
          "metadata": {},
          "execution_count": 46
        }
      ]
    },
    {
      "cell_type": "code",
      "source": [
        "T = np.empty\n",
        "T"
      ],
      "metadata": {
        "colab": {
          "base_uri": "https://localhost:8080/"
        },
        "id": "wkYRc2lHm_OG",
        "outputId": "b1112260-a7f9-48e3-e80d-42bb7cad7b46"
      },
      "execution_count": 47,
      "outputs": [
        {
          "output_type": "execute_result",
          "data": {
            "text/plain": [
              "<function numpy.empty>"
            ]
          },
          "metadata": {},
          "execution_count": 47
        }
      ]
    },
    {
      "cell_type": "markdown",
      "source": [
        "## Determinant"
      ],
      "metadata": {
        "id": "TKU91emxw2wd"
      }
    },
    {
      "cell_type": "markdown",
      "source": [
        "A determinant is a scalar value derived from a square matrix. The determinant is a fundamental and important value used in matrix algebra. Although it will not be evident in this laboratory on how it can be used practically, but it will be reatly used in future lessons.\n",
        "\n",
        "The determinant of some matrix $A$ is denoted as $det(A)$ or $|A|$. So let's say $A$ is represented as:\n",
        "$$A = \\begin{bmatrix}a_{(0,0)}&a_{(0,1)}\\\\a_{(1,0)}&a_{(1,1)}\\end{bmatrix}$$\n",
        "We can compute for the determinant as:\n",
        "$$|A| = a_{(0,0)}*a_{(1,1)} - a_{(1,0)}*a_{(0,1)}$$\n",
        "So if we have $A$ as:\n",
        "$$A = \\begin{bmatrix}1&4\\\\0&3\\end{bmatrix}, |A| = 3$$\n",
        "\n",
        "But you might wonder how about square matrices beyond the shape $(2,2)$? We can approach this problem by using several methods such as co-factor expansion and the minors method. This can be taught in the lecture of the laboratory but we can achieve the strenuous computation of high-dimensional matrices programmatically using Python. We can achieve this by using `np.linalg.det()`."
      ],
      "metadata": {
        "id": "-7QNnJ7Vw5R2"
      }
    },
    {
      "cell_type": "code",
      "source": [
        "A = np.array([\n",
        "    [31,43],\n",
        "    [10,23]\n",
        "])\n",
        "np.linalg.det(A)"
      ],
      "metadata": {
        "colab": {
          "base_uri": "https://localhost:8080/"
        },
        "id": "yj14EUoGw9Gx",
        "outputId": "89afd352-bf39-4aa2-8cda-79d8e3fea0cc"
      },
      "execution_count": 48,
      "outputs": [
        {
          "output_type": "execute_result",
          "data": {
            "text/plain": [
              "283.0"
            ]
          },
          "metadata": {},
          "execution_count": 48
        }
      ]
    },
    {
      "cell_type": "code",
      "source": [
        "## Now other mathematics classes would require you to solve this by hand, \n",
        "## and that is great for practicing your memorization and coordination skills \n",
        "## but in this class we aim for simplicity and speed so we'll use programming\n",
        "## but it's completely fine if you want to try to solve this one by hand.\n",
        "B = np.array([\n",
        "    [12,31,54,62],\n",
        "    [10,33,21,13],\n",
        "    [13,21,48,22],\n",
        "    [45,21,26,18]\n",
        "])\n",
        "np.linalg.det(B)"
      ],
      "metadata": {
        "colab": {
          "base_uri": "https://localhost:8080/"
        },
        "id": "6zfIPMEZw_oO",
        "outputId": "d7edeef0-f9d6-441e-d53c-5c0ed8d0d9f2"
      },
      "execution_count": 49,
      "outputs": [
        {
          "output_type": "execute_result",
          "data": {
            "text/plain": [
              "-1520021.9999999981"
            ]
          },
          "metadata": {},
          "execution_count": 49
        }
      ]
    },
    {
      "cell_type": "code",
      "source": [
        "C= np.array([\n",
        "             [5,-2,3],\n",
        "             [7,-4,-1],\n",
        "             [8,7,11]\n",
        "])\n",
        "np.linalg.det(C)"
      ],
      "metadata": {
        "colab": {
          "base_uri": "https://localhost:8080/"
        },
        "id": "50-ZWVu8xC9W",
        "outputId": "926c9312-5aca-43ca-e8f0-f1359e7365d7"
      },
      "execution_count": 50,
      "outputs": [
        {
          "output_type": "execute_result",
          "data": {
            "text/plain": [
              "227.99999999999986"
            ]
          },
          "metadata": {},
          "execution_count": 50
        }
      ]
    },
    {
      "cell_type": "markdown",
      "source": [
        "## Inverse"
      ],
      "metadata": {
        "id": "WZBh79uWxE2Z"
      }
    },
    {
      "cell_type": "markdown",
      "source": [
        "The inverse of a matrix is another fundamental operation in matrix algebra. Determining the inverse of a matrix let us determine if its solvability and its characteristic as a system of linear equation — we'll expand on this in the nect module. Another use of the inverse matrix is solving the problem of divisibility between matrices. Although element-wise division exists but dividing the entire concept of matrices does not exists. Inverse matrices provides a related operation that could have the same concept of \"dividing\" matrices.\n",
        "\n",
        "Now to determine the inverse of a matrix we need to perform several steps. So let's say we have a matrix $M$:\n",
        "$$M = \\begin{bmatrix}1&7\\\\-3&5\\end{bmatrix}$$\n",
        "First, we need to get the determinant of $M$.\n",
        "$$|M| = (1)(5)-(-3)(7) = 26$$\n",
        "Next, we need to reform the matrix into the inverse form:\n",
        "$$M^{-1} = \\frac{1}{|M|} \\begin{bmatrix} m_{(1,1)} & -m_{(0,1)} \\\\ -m_{(1,0)} & m_{(0,0)}\\end{bmatrix}$$\n",
        "So that will be:\n",
        "$$M^{-1} = \\frac{1}{26} \\begin{bmatrix} 5 & -7 \\\\ 3 & 1\\end{bmatrix} = \\begin{bmatrix} \\frac{5}{26} & \\frac{-7}{26} \\\\ \\frac{3}{26} & \\frac{1}{26}\\end{bmatrix}$$\n",
        "For higher-dimension matrices you might need to use co-factors, minors, adjugates, and other reduction techinques. To solve this programmatially we can use `np.linalg.inv()`."
      ],
      "metadata": {
        "id": "3EcSNC-jxGSC"
      }
    },
    {
      "cell_type": "code",
      "source": [
        "M = np.array([\n",
        "    [11,72],\n",
        "    [-34, 52]\n",
        "])\n",
        "\n",
        "np.array(M @ np.linalg.inv(M), dtype=int)"
      ],
      "metadata": {
        "colab": {
          "base_uri": "https://localhost:8080/"
        },
        "id": "xBDUAZH8xJPJ",
        "outputId": "069059dc-b95c-45fb-9f22-90a682ca00a5"
      },
      "execution_count": 51,
      "outputs": [
        {
          "output_type": "execute_result",
          "data": {
            "text/plain": [
              "array([[1, 0],\n",
              "       [0, 0]])"
            ]
          },
          "metadata": {},
          "execution_count": 51
        }
      ]
    },
    {
      "cell_type": "code",
      "source": [
        "P = np.array ([\n",
        "             [15,12,4,],\n",
        "             [60,21,12,],\n",
        "             [4,87,43,]\n",
        "])\n",
        "Q = np.linalg.inv(P)\n",
        "Q"
      ],
      "metadata": {
        "colab": {
          "base_uri": "https://localhost:8080/"
        },
        "id": "yWZbc_rqxMMN",
        "outputId": "4271b46a-157f-4627-8bf7-a32a562a6353"
      },
      "execution_count": 52,
      "outputs": [
        {
          "output_type": "execute_result",
          "data": {
            "text/plain": [
              "array([[ 0.01179423,  0.0140527 , -0.00501882],\n",
              "       [ 0.21179423, -0.05261397, -0.00501882],\n",
              "       [-0.42961104,  0.10514429,  0.03387704]])"
            ]
          },
          "metadata": {},
          "execution_count": 52
        }
      ]
    },
    {
      "cell_type": "code",
      "source": [
        "## And now let's test your skills in solving a matrix with high dimensions:\n",
        "N = np.array([\n",
        "    [18,5,23,1,0,33,5],\n",
        "    [0,45,0,11,2,4,2],\n",
        "    [5,9,20,0,0,0,3],\n",
        "    [1,6,4,4,8,43,1],\n",
        "    [8,6,8,7,1,6,1],\n",
        "    [-5,15,2,0,0,6,-30],\n",
        "    [-2,-5,1,2,1,20,12],\n",
        "])\n",
        "N_inv = np.linalg.inv(N)\n",
        "np.array(N @ N_inv,dtype=int)"
      ],
      "metadata": {
        "colab": {
          "base_uri": "https://localhost:8080/"
        },
        "id": "vxVZ63xUxQZK",
        "outputId": "1e8b0a59-87ec-4479-c45b-9a95f46429b8"
      },
      "execution_count": 53,
      "outputs": [
        {
          "output_type": "execute_result",
          "data": {
            "text/plain": [
              "array([[0, 0, 0, 0, 0, 0, 0],\n",
              "       [0, 0, 0, 0, 0, 0, 0],\n",
              "       [0, 0, 1, 0, 0, 0, 0],\n",
              "       [0, 0, 0, 1, 0, 0, 0],\n",
              "       [0, 0, 0, 0, 0, 0, 0],\n",
              "       [0, 0, 0, 0, 0, 0, 0],\n",
              "       [0, 0, 0, 0, 0, 0, 0]])"
            ]
          },
          "metadata": {},
          "execution_count": 53
        }
      ]
    },
    {
      "cell_type": "markdown",
      "source": [
        "To validate the wether if the matric that you have solved is really the inverse, we follow this dot product property for a matrix $M$:\n",
        "$$M\\cdot M^{-1} = I$$"
      ],
      "metadata": {
        "id": "XjUeuTCnxSnG"
      }
    },
    {
      "cell_type": "code",
      "source": [
        "squad = np.array([\n",
        "    [1.0, 1.0, 0.5],\n",
        "    [0.7, 0.7, 0.9],\n",
        "    [0.3, 0.3, 1.0]\n",
        "])\n",
        "weights = np.array([\n",
        "    [0.2, 0.2, 0.6]\n",
        "])\n",
        "p_grade = squad @ weights.T\n",
        "p_grade"
      ],
      "metadata": {
        "colab": {
          "base_uri": "https://localhost:8080/"
        },
        "id": "D5h5NDaRxT1-",
        "outputId": "524f913e-5d18-4eb2-e2cd-ccb02a6adc09"
      },
      "execution_count": 54,
      "outputs": [
        {
          "output_type": "execute_result",
          "data": {
            "text/plain": [
              "array([[0.7 ],\n",
              "       [0.82],\n",
              "       [0.72]])"
            ]
          },
          "metadata": {},
          "execution_count": 54
        }
      ]
    }
  ]
}