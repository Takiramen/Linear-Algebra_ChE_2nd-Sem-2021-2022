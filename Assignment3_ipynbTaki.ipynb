{
  "nbformat": 4,
  "nbformat_minor": 0,
  "metadata": {
    "colab": {
      "name": "Assignment3.ipynbTaki",
      "provenance": [],
      "collapsed_sections": [],
      "authorship_tag": "ABX9TyPrNdjdNIaJcSQXYpi+k+8I",
      "include_colab_link": true
    },
    "kernelspec": {
      "name": "python3",
      "display_name": "Python 3"
    },
    "language_info": {
      "name": "python"
    }
  },
  "cells": [
    {
      "cell_type": "markdown",
      "metadata": {
        "id": "view-in-github",
        "colab_type": "text"
      },
      "source": [
        "<a href=\"https://colab.research.google.com/github/Takiramen/Linear-Algebra_ChE_2nd-Sem-2021-2022/blob/main/Assignment3_ipynbTaki.ipynb\" target=\"_parent\"><img src=\"https://colab.research.google.com/assets/colab-badge.svg\" alt=\"Open In Colab\"/></a>"
      ]
    },
    {
      "cell_type": "markdown",
      "metadata": {
        "id": "z3yQzzctIfrD"
      },
      "source": [
        "### Objectives\n",
        "At the end of this activity you will be able to:\n",
        "1. Be familiar with matrices and their relation to linear equations.\n",
        "2. Perform basic matrix operations.\n",
        "3. Program and translate matrix equations and operations using Python."
      ]
    },
    {
      "cell_type": "markdown",
      "source": [
        "# Discussion\n"
      ],
      "metadata": {
        "id": "33ahzJYguXoQ"
      }
    },
    {
      "cell_type": "code",
      "source": [
        ""
      ],
      "metadata": {
        "id": "8PYxkPxIudwb"
      },
      "execution_count": 9,
      "outputs": []
    },
    {
      "cell_type": "code",
      "metadata": {
        "id": "2pbwsjOgIfrF"
      },
      "source": [
        "import numpy as np\n",
        "import matplotlib.pyplot as plt\n",
        "import scipy.linalg as la\n",
        "%matplotlib inline"
      ],
      "execution_count": 10,
      "outputs": []
    },
    {
      "cell_type": "markdown",
      "source": [
        "### Matrices"
      ],
      "metadata": {
        "id": "F5Xagx6Ouo-I"
      }
    },
    {
      "cell_type": "markdown",
      "source": [
        ""
      ],
      "metadata": {
        "id": "8cAWIS-6uroa"
      }
    },
    {
      "cell_type": "markdown",
      "metadata": {
        "id": "rmoXv48oIfrG"
      },
      "source": [
        "The notation and use of matrices is probably one of the fundamentals of modern computing. Matrices are also handy representations of complex equations or multiple inter-related equations from 2-dimensional equations to even hundreds and thousands of them."
      ]
    },
    {
      "cell_type": "markdown",
      "source": [
        ""
      ],
      "metadata": {
        "id": "IWYsM-aFuzm9"
      }
    },
    {
      "cell_type": "markdown",
      "metadata": {
        "id": "vMNHzYdvIfrG"
      },
      "source": [
        "Let's say for example you have $A$ and $B$ as system of equation."
      ]
    },
    {
      "cell_type": "markdown",
      "source": [
        ""
      ],
      "metadata": {
        "id": "9yLEgS7vu5Ba"
      }
    },
    {
      "cell_type": "markdown",
      "metadata": {
        "id": "UGBWeAoeIfrH"
      },
      "source": [
        "$$\n",
        "A = \\left\\{\n",
        "    \\begin{array}\\\n",
        "        x + y \\\\ \n",
        "        1x - 2y\n",
        "    \\end{array}\n",
        "\\right. \\\\\n",
        "B = \\left\\{\n",
        "    \\begin{array}\\\n",
        "        x+y+z \\\\ \n",
        "        3x -4y -z \\\\\n",
        "        -x + 5y +6z\n",
        "    \\end{array}\n",
        "\\right. $$"
      ]
    },
    {
      "cell_type": "markdown",
      "source": [
        ""
      ],
      "metadata": {
        "id": "DmziPGRRvO4L"
      }
    },
    {
      "cell_type": "markdown",
      "metadata": {
        "id": "dHxKG8C6IfrH"
      },
      "source": [
        "We could see that $A$ is a system of 2 equations with 2 parameters. While $B$ is a system of 3 equations with 3 parameters. We can represent them as matrices as:"
      ]
    },
    {
      "cell_type": "markdown",
      "source": [
        ""
      ],
      "metadata": {
        "id": "SvnS49O9vP65"
      }
    },
    {
      "cell_type": "markdown",
      "metadata": {
        "id": "kA8oyF0GIfrI"
      },
      "source": [
        "$$\n",
        "A=\\begin{bmatrix} 1 & 2 \\\\ 3 & {-4}\\end{bmatrix} \\\\\n",
        "B=\\begin{bmatrix} 1 & 1 & 1 \\\\ 2 & -2 & -2 \\\\ -3 & 3 & 3\\end{bmatrix}\n",
        "$$"
      ]
    },
    {
      "cell_type": "markdown",
      "source": [
        ""
      ],
      "metadata": {
        "id": "P-yQOepjvgKo"
      }
    },
    {
      "cell_type": "markdown",
      "metadata": {
        "id": "HEJFn3phIfrI"
      },
      "source": [
        "So assuming that you already discussed the fundamental representation of matrices, their types, and operations. We'll proceed in doing them in here in Python."
      ]
    },
    {
      "cell_type": "markdown",
      "source": [
        ""
      ],
      "metadata": {
        "id": "wxvV5oP4vhM1"
      }
    },
    {
      "cell_type": "markdown",
      "metadata": {
        "id": "fKS9O9p6IfrI"
      },
      "source": [
        "### Declaring Matrices"
      ]
    },
    {
      "cell_type": "markdown",
      "source": [
        "Just like our previous laboratory activity, we'll represent system of linear equations as a matrix. The entities or numbers in matrices are called the elements of a matrix. These elements are arranged and ordered in rows and columns which form the list/array-like structure of matrices. And just like arrays, these elements are indexed according to their position with respect to their rows and columns. This can be reprsented just like the equation below. Whereas $A$ is a matrix consisting of elements denoted by $a_{i,j}$. Denoted by $i$ is the number of rows in the matrix while $j$ stands for the number of columns.<br>\n",
        "Do note that the $size$ of a matrix is $i\\times j$."
      ],
      "metadata": {
        "id": "ZCN_Calcvlu8"
      }
    },
    {
      "cell_type": "markdown",
      "source": [
        ""
      ],
      "metadata": {
        "id": "3VjER_efvm-b"
      }
    },
    {
      "cell_type": "markdown",
      "metadata": {
        "id": "dk6N1g_OIfrJ"
      },
      "source": [
        "$$A=\\begin{bmatrix}\n",
        "a_{(0,0)}&a_{(0,1)}&\\dots&a_{(0,j-1)}\\\\\n",
        "a_{(1,0)}&a_{(1,1)}&\\dots&a_{(1,j-1)}\\\\\n",
        "\\vdots&\\vdots&\\ddots&\\vdots&\\\\\n",
        "a_{(i-1,0)}&a_{(i-1,1)}&\\dots&a_{(i-1,j-1)}\n",
        "\\end{bmatrix}\n",
        "$$"
      ]
    },
    {
      "cell_type": "markdown",
      "source": [
        ""
      ],
      "metadata": {
        "id": "fGSg3bDBvqJq"
      }
    },
    {
      "cell_type": "markdown",
      "metadata": {
        "id": "hHWR-lfaIfrJ"
      },
      "source": [
        "We already gone over some of the types of matrices as vectors but we'll further discuss them in this laboratory activity. Since you already know how to describe vectors using <b>shape</b>, <b>dimensions</b> and <b>size</b> attributes, we'll use them to analyze these matrices."
      ]
    },
    {
      "cell_type": "code",
      "source": [
        "## Since we'll keep on describing matrices. Let's make a function.\n",
        "def describe_mat(matrix):\n",
        "    print(f'Matrix:\\n{matrix}\\n\\nShape:\\t{matrix.shape}\\nRank:\\t{matrix.ndim}\\n')"
      ],
      "metadata": {
        "id": "2U_g4biHv8uf"
      },
      "execution_count": 11,
      "outputs": []
    },
    {
      "cell_type": "code",
      "source": [
        ""
      ],
      "metadata": {
        "id": "3DEO-itGwD_f"
      },
      "execution_count": 11,
      "outputs": []
    },
    {
      "cell_type": "code",
      "metadata": {
        "id": "GtlANSbsIfrK",
        "outputId": "2f11d477-1f28-406f-8cf8-acc58396ebaa",
        "colab": {
          "base_uri": "https://localhost:8080/"
        }
      },
      "source": [
        "## Declaring a 2 x 2 matrix\n",
        "A = np.array([\n",
        "    [1, 2],\n",
        "    [3, 1]\n",
        "])\n",
        "describe_mat(A)"
      ],
      "execution_count": 12,
      "outputs": [
        {
          "output_type": "stream",
          "name": "stdout",
          "text": [
            "Matrix:\n",
            "[[1 2]\n",
            " [3 1]]\n",
            "\n",
            "Shape:\t(2, 2)\n",
            "Rank:\t2\n",
            "\n"
          ]
        }
      ]
    },
    {
      "cell_type": "code",
      "source": [
        ""
      ],
      "metadata": {
        "id": "gm_gUUvxwF8H"
      },
      "execution_count": 13,
      "outputs": []
    },
    {
      "cell_type": "code",
      "metadata": {
        "id": "d25x10ZgIfrL",
        "outputId": "c61b6f26-20e4-4311-f286-b8824fadc56b",
        "colab": {
          "base_uri": "https://localhost:8080/"
        }
      },
      "source": [
        "G = np.array([\n",
        "    [1,1],\n",
        "    [2,2]\n",
        "])\n",
        "describe_mat(G)"
      ],
      "execution_count": 13,
      "outputs": [
        {
          "output_type": "stream",
          "name": "stdout",
          "text": [
            "Matrix:\n",
            "[[1 1]\n",
            " [2 2]]\n",
            "\n",
            "Shape:\t(2, 2)\n",
            "Rank:\t2\n",
            "\n"
          ]
        }
      ]
    },
    {
      "cell_type": "code",
      "source": [
        ""
      ],
      "metadata": {
        "id": "g96_AA6ywMSH"
      },
      "execution_count": 13,
      "outputs": []
    },
    {
      "cell_type": "code",
      "metadata": {
        "id": "SdPbu_jlIfrM",
        "outputId": "886a5888-23c6-4ab7-a46e-15a002947215",
        "colab": {
          "base_uri": "https://localhost:8080/"
        }
      },
      "source": [
        "## Declaring a 3 x 2 matrix\n",
        "B = np.array([\n",
        "    [8, 2],\n",
        "    [5, 4],\n",
        "    [1, 1]\n",
        "])\n",
        "describe_mat(B)"
      ],
      "execution_count": 14,
      "outputs": [
        {
          "output_type": "stream",
          "name": "stdout",
          "text": [
            "Matrix:\n",
            "[[8 2]\n",
            " [5 4]\n",
            " [1 1]]\n",
            "\n",
            "Shape:\t(3, 2)\n",
            "Rank:\t2\n",
            "\n"
          ]
        }
      ]
    },
    {
      "cell_type": "code",
      "metadata": {
        "id": "I_6DL5WKwQrn"
      },
      "source": [
        ""
      ],
      "execution_count": null,
      "outputs": []
    },
    {
      "cell_type": "code",
      "metadata": {
        "id": "sfLJuskKIfrM",
        "outputId": "8a96f688-2964-46c9-e933-ea38526ddb02",
        "colab": {
          "base_uri": "https://localhost:8080/"
        }
      },
      "source": [
        "H = np.array([1,2,3,4,5])\n",
        "describe_mat(H)"
      ],
      "execution_count": 15,
      "outputs": [
        {
          "output_type": "stream",
          "name": "stdout",
          "text": [
            "Matrix:\n",
            "[1 2 3 4 5]\n",
            "\n",
            "Shape:\t(5,)\n",
            "Rank:\t1\n",
            "\n"
          ]
        }
      ]
    },
    {
      "cell_type": "markdown",
      "source": [
        "## Categorizing Matrices"
      ],
      "metadata": {
        "id": "qsiW2LIswXsb"
      }
    },
    {
      "cell_type": "markdown",
      "source": [
        "There are several ways of classifying matrices. Once could be according to their <b>shape</b> and another is according to their <b>element values</b>. We'll try to go through them."
      ],
      "metadata": {
        "id": "31R2yI82wZUE"
      }
    },
    {
      "cell_type": "markdown",
      "source": [
        "### According to shape"
      ],
      "metadata": {
        "id": "LEh73IK4wbp5"
      }
    },
    {
      "cell_type": "markdown",
      "source": [
        "#### Row and Column Matrices"
      ],
      "metadata": {
        "id": "CiYy0Bovwhfs"
      }
    },
    {
      "cell_type": "markdown",
      "source": [
        "Row and column matrices are common in vector and matrix computations. They can also represent row and column spaces of a bigger vector space. Row and column matrices are represented by a single column or single row. So with that being, the shape of row matrices would be $1 \\times j$ and column matrices would be $i \\times 1$."
      ],
      "metadata": {
        "id": "WTE8UaPEwjv6"
      }
    },
    {
      "cell_type": "code",
      "source": [
        "## Declaring a Row Matrix\n",
        "\n",
        "row_mat_1D = np.array([\n",
        "    1, 3, 2\n",
        "]) ## this is a 1-D Matrix with a shape of (3,), it's not really considered as a row matrix.\n",
        "row_mat_2D = np.array([\n",
        "    [1,2,3]\n",
        "]) ## this is a 2-D Matrix with a shape of (1,3)\n",
        "describe_mat(row_mat_1D)\n",
        "describe_mat(row_mat_2D)"
      ],
      "metadata": {
        "colab": {
          "base_uri": "https://localhost:8080/"
        },
        "id": "HagTD51DwmeM",
        "outputId": "16159f9b-7b32-4d30-8d25-7e867420896a"
      },
      "execution_count": 16,
      "outputs": [
        {
          "output_type": "stream",
          "name": "stdout",
          "text": [
            "Matrix:\n",
            "[1 3 2]\n",
            "\n",
            "Shape:\t(3,)\n",
            "Rank:\t1\n",
            "\n",
            "Matrix:\n",
            "[[1 2 3]]\n",
            "\n",
            "Shape:\t(1, 3)\n",
            "Rank:\t2\n",
            "\n"
          ]
        }
      ]
    },
    {
      "cell_type": "code",
      "source": [
        "## Declaring a Column Matrix\n",
        "\n",
        "col_mat = np.array([\n",
        "    [1],\n",
        "    [2],\n",
        "    [5]\n",
        "]) ## this is a 2-D Matrix with a shape of (3,1)\n",
        "describe_mat(col_mat)"
      ],
      "metadata": {
        "colab": {
          "base_uri": "https://localhost:8080/"
        },
        "id": "EezFa278wpzB",
        "outputId": "6dc2b622-c300-4a65-a4a4-99ed7dc57bd0"
      },
      "execution_count": 17,
      "outputs": [
        {
          "output_type": "stream",
          "name": "stdout",
          "text": [
            "Matrix:\n",
            "[[1]\n",
            " [2]\n",
            " [5]]\n",
            "\n",
            "Shape:\t(3, 1)\n",
            "Rank:\t2\n",
            "\n"
          ]
        }
      ]
    },
    {
      "cell_type": "markdown",
      "source": [
        "#### Square Matrices"
      ],
      "metadata": {
        "id": "PLOKA8qSwtOa"
      }
    },
    {
      "cell_type": "markdown",
      "source": [
        "Square matrices are matrices that have the same row and column sizes. We could say a matrix is square if $i = j$. We can tweak our matrix descriptor function to determine square matrices."
      ],
      "metadata": {
        "id": "LkfYdCPIwwdO"
      }
    },
    {
      "cell_type": "code",
      "source": [
        "def describe_mat(matrix):\n",
        "    is_square = True if matrix.shape[0] == matrix.shape[1] else False \n",
        "    print(f'Matrix:\\n{matrix}\\n\\nShape:\\t{matrix.shape}\\nRank:\\t{matrix.ndim}\\nIs Square: {is_square}\\n')"
      ],
      "metadata": {
        "id": "NpSHBIU_wzgX"
      },
      "execution_count": 18,
      "outputs": []
    },
    {
      "cell_type": "code",
      "source": [
        "square_mat = np.array([\n",
        "    [1,2,5],\n",
        "    [3,3,8],\n",
        "    [6,1,2]\n",
        "])\n",
        "\n",
        "non_square_mat = np.array([\n",
        "    [1,2,5],\n",
        "    [3,3,8]\n",
        "])\n",
        "describe_mat(square_mat)\n",
        "describe_mat(non_square_mat)"
      ],
      "metadata": {
        "colab": {
          "base_uri": "https://localhost:8080/"
        },
        "id": "27TaJ4Sbw6_r",
        "outputId": "ada9b597-b495-4630-bbf1-698bd042942c"
      },
      "execution_count": 19,
      "outputs": [
        {
          "output_type": "stream",
          "name": "stdout",
          "text": [
            "Matrix:\n",
            "[[1 2 5]\n",
            " [3 3 8]\n",
            " [6 1 2]]\n",
            "\n",
            "Shape:\t(3, 3)\n",
            "Rank:\t2\n",
            "Is Square: True\n",
            "\n",
            "Matrix:\n",
            "[[1 2 5]\n",
            " [3 3 8]]\n",
            "\n",
            "Shape:\t(2, 3)\n",
            "Rank:\t2\n",
            "Is Square: False\n",
            "\n"
          ]
        }
      ]
    },
    {
      "cell_type": "markdown",
      "source": [
        "### According to element values"
      ],
      "metadata": {
        "id": "vnj29MdPxAio"
      }
    },
    {
      "cell_type": "markdown",
      "source": [
        "#### Null Matrix"
      ],
      "metadata": {
        "id": "_dA4pKv9xGEF"
      }
    },
    {
      "cell_type": "markdown",
      "source": [
        "A Null Matrix is a matrix that has no elements. It is always a subspace of any vector or matrix."
      ],
      "metadata": {
        "id": "A9gmyvnkxIAv"
      }
    },
    {
      "cell_type": "code",
      "source": [
        "def describe_mat(matrix):\n",
        "    if matrix.size > 0:\n",
        "        is_square = True if matrix.shape[0] == matrix.shape[1] else False \n",
        "        print(f'Matrix:\\n{matrix}\\n\\nShape:\\t{matrix.shape}\\nRank:\\t{matrix.ndim}\\nIs Square: {is_square}\\n')\n",
        "    else:\n",
        "        print('Matrix is Null')"
      ],
      "metadata": {
        "id": "vfCB2QFcxKcM"
      },
      "execution_count": 20,
      "outputs": []
    },
    {
      "cell_type": "code",
      "source": [
        "null_mat = np.array([])\n",
        "describe_mat(null_mat)\n"
      ],
      "metadata": {
        "colab": {
          "base_uri": "https://localhost:8080/"
        },
        "outputId": "388f110a-2aa5-476e-c9cd-ed8cba12c705",
        "id": "asnDn7F7O1SX"
      },
      "execution_count": 21,
      "outputs": [
        {
          "output_type": "stream",
          "name": "stdout",
          "text": [
            "Matrix is Null\n"
          ]
        }
      ]
    },
    {
      "cell_type": "markdown",
      "source": [
        "*italicized text*#### Zero Matrix"
      ],
      "metadata": {
        "id": "6TkS7t1ixQzv"
      }
    },
    {
      "cell_type": "markdown",
      "source": [
        "A zero matrix can be any rectangular matrix but with all elements having a value of 0."
      ],
      "metadata": {
        "id": "1IEde9PPxYH-"
      }
    },
    {
      "cell_type": "code",
      "source": [
        "zero_mat_row = np.zeros((1,2))\n",
        "zero_mat_sqr = np.zeros((2,2))\n",
        "zero_mat_rct = np.zeros((3,2))\n",
        "\n",
        "print(f'Zero Row Matrix: \\n{zero_mat_row}')\n",
        "print(f'Zero Square Matrix: \\n{zero_mat_sqr}')\n",
        "print(f'Zero Rectangular Matrix: \\n{zero_mat_rct}')"
      ],
      "metadata": {
        "colab": {
          "base_uri": "https://localhost:8080/"
        },
        "id": "luW8lrsQxcZz",
        "outputId": "b098e177-52fa-4a48-9d48-edc6f955455b"
      },
      "execution_count": 22,
      "outputs": [
        {
          "output_type": "stream",
          "name": "stdout",
          "text": [
            "Zero Row Matrix: \n",
            "[[0. 0.]]\n",
            "Zero Square Matrix: \n",
            "[[0. 0.]\n",
            " [0. 0.]]\n",
            "Zero Rectangular Matrix: \n",
            "[[0. 0.]\n",
            " [0. 0.]\n",
            " [0. 0.]]\n"
          ]
        }
      ]
    },
    {
      "cell_type": "markdown",
      "source": [
        "#### Ones Matrix"
      ],
      "metadata": {
        "id": "fOQkmPgKxgRM"
      }
    },
    {
      "cell_type": "markdown",
      "source": [
        "A ones matrix, just like the zero matrix, can be any rectangular matrix but all of its elements are 1s instead of 0s."
      ],
      "metadata": {
        "id": "SIbzmbo3xjnI"
      }
    },
    {
      "cell_type": "code",
      "source": [
        "ones_mat_row = np.ones((1,2))\n",
        "ones_mat_sqr = np.ones((2,2))\n",
        "ones_mat_rct = np.ones((3,2))\n",
        "\n",
        "print(f'Ones Row Matrix: \\n{ones_mat_row}')\n",
        "print(f'Ones Square Matrix: \\n{ones_mat_sqr}')\n",
        "print(f'Ones Rectangular Matrix: \\n{ones_mat_rct}')"
      ],
      "metadata": {
        "colab": {
          "base_uri": "https://localhost:8080/"
        },
        "id": "6ZZOLbHRxmWw",
        "outputId": "347f4205-befd-47d3-f520-72c3284e6b13"
      },
      "execution_count": 23,
      "outputs": [
        {
          "output_type": "stream",
          "name": "stdout",
          "text": [
            "Ones Row Matrix: \n",
            "[[1. 1.]]\n",
            "Ones Square Matrix: \n",
            "[[1. 1.]\n",
            " [1. 1.]]\n",
            "Ones Rectangular Matrix: \n",
            "[[1. 1.]\n",
            " [1. 1.]\n",
            " [1. 1.]]\n"
          ]
        }
      ]
    },
    {
      "cell_type": "markdown",
      "source": [
        "#### Diagonal Matrix"
      ],
      "metadata": {
        "id": "EKnNVDP5xqMw"
      }
    },
    {
      "cell_type": "markdown",
      "source": [
        "A diagonal matrix is a square matrix that has values only at the diagonal of the matrix. "
      ],
      "metadata": {
        "id": "G7mUbcjYxr9U"
      }
    },
    {
      "cell_type": "code",
      "source": [
        "np.array([\n",
        "    [2,0,0],\n",
        "    [0,3,0],\n",
        "    [0,0,5]\n",
        "])\n",
        "# a[1,1], a[2,2], a[3,3], ... a[n-1,n-1]"
      ],
      "metadata": {
        "colab": {
          "base_uri": "https://localhost:8080/"
        },
        "id": "Yx6dRVvnxuEq",
        "outputId": "d04a201a-4fd0-4a52-8493-13e4d7df9d97"
      },
      "execution_count": 24,
      "outputs": [
        {
          "output_type": "execute_result",
          "data": {
            "text/plain": [
              "array([[2, 0, 0],\n",
              "       [0, 3, 0],\n",
              "       [0, 0, 5]])"
            ]
          },
          "metadata": {},
          "execution_count": 24
        }
      ]
    },
    {
      "cell_type": "code",
      "source": [
        "d = np.diag([2,3,5,7])\n",
        "np.diag(d).shape == d.shape[0] == d.shape[1]"
      ],
      "metadata": {
        "colab": {
          "base_uri": "https://localhost:8080/"
        },
        "id": "tYQj2J7txyZ9",
        "outputId": "139c494d-c836-494b-b188-bde90f29680b"
      },
      "execution_count": 25,
      "outputs": [
        {
          "output_type": "execute_result",
          "data": {
            "text/plain": [
              "False"
            ]
          },
          "metadata": {},
          "execution_count": 25
        }
      ]
    },
    {
      "cell_type": "markdown",
      "source": [
        "#### Identity Matrix"
      ],
      "metadata": {
        "id": "SEo_Y91KyEYU"
      }
    },
    {
      "cell_type": "markdown",
      "source": [
        "An identity matrix is a special diagonal matrix in which the values at the diagonal are ones."
      ],
      "metadata": {
        "id": "QZegQQ9kyHYB"
      }
    },
    {
      "cell_type": "code",
      "source": [
        "np.eye(5)"
      ],
      "metadata": {
        "colab": {
          "base_uri": "https://localhost:8080/"
        },
        "id": "aMU0qKrByNdP",
        "outputId": "ff040e8e-4ea6-48c7-c380-f008235626dd"
      },
      "execution_count": 26,
      "outputs": [
        {
          "output_type": "execute_result",
          "data": {
            "text/plain": [
              "array([[1., 0., 0., 0., 0.],\n",
              "       [0., 1., 0., 0., 0.],\n",
              "       [0., 0., 1., 0., 0.],\n",
              "       [0., 0., 0., 1., 0.],\n",
              "       [0., 0., 0., 0., 1.]])"
            ]
          },
          "metadata": {},
          "execution_count": 26
        }
      ]
    },
    {
      "cell_type": "code",
      "source": [
        "np.identity(5)"
      ],
      "metadata": {
        "colab": {
          "base_uri": "https://localhost:8080/"
        },
        "id": "Dnt_dSYIyQ88",
        "outputId": "f52f887d-0142-47db-da2d-cc0ee6d55779"
      },
      "execution_count": 27,
      "outputs": [
        {
          "output_type": "execute_result",
          "data": {
            "text/plain": [
              "array([[1., 0., 0., 0., 0.],\n",
              "       [0., 1., 0., 0., 0.],\n",
              "       [0., 0., 1., 0., 0.],\n",
              "       [0., 0., 0., 1., 0.],\n",
              "       [0., 0., 0., 0., 1.]])"
            ]
          },
          "metadata": {},
          "execution_count": 27
        }
      ]
    },
    {
      "cell_type": "markdown",
      "source": [
        "#### Upper Triangular Matrix"
      ],
      "metadata": {
        "id": "Es5YBTxJyVoH"
      }
    },
    {
      "cell_type": "markdown",
      "source": [
        ""
      ],
      "metadata": {
        "id": "8Xme4Rp-yZih"
      }
    },
    {
      "cell_type": "markdown",
      "metadata": {
        "id": "OKc2vrotIfrY"
      },
      "source": [
        "An upper triangular matrix is a matrix that has no values below the diagonal. "
      ]
    },
    {
      "cell_type": "code",
      "source": [
        "np.array([\n",
        "    [1,2,3],\n",
        "    [0,3,1],\n",
        "    [0,0,5]\n",
        "])"
      ],
      "metadata": {
        "colab": {
          "base_uri": "https://localhost:8080/"
        },
        "id": "PUcI9865ycnS",
        "outputId": "0e0a0718-36df-449d-d6fc-16df944ae9cb"
      },
      "execution_count": 28,
      "outputs": [
        {
          "output_type": "execute_result",
          "data": {
            "text/plain": [
              "array([[1, 2, 3],\n",
              "       [0, 3, 1],\n",
              "       [0, 0, 5]])"
            ]
          },
          "metadata": {},
          "execution_count": 28
        }
      ]
    },
    {
      "cell_type": "markdown",
      "source": [
        "\n",
        "\n",
        "```\n",
        "# This is formatted as code\n",
        "```\n",
        "\n",
        "#### Lower Triangular Matrix"
      ],
      "metadata": {
        "id": "-S6DrUhDyhIY"
      }
    },
    {
      "cell_type": "markdown",
      "source": [
        "A lower triangular matrix is a matrix that has no values above the diagonal."
      ],
      "metadata": {
        "id": "sdU2hPREyk27"
      }
    },
    {
      "cell_type": "code",
      "source": [
        "np.array([\n",
        "    [1,0,0],\n",
        "    [5,3,0],\n",
        "    [7,8,5]\n",
        "])"
      ],
      "metadata": {
        "colab": {
          "base_uri": "https://localhost:8080/"
        },
        "id": "m29XTS9Oyswc",
        "outputId": "2d427876-b9ef-4841-f3ab-760362a72054"
      },
      "execution_count": 29,
      "outputs": [
        {
          "output_type": "execute_result",
          "data": {
            "text/plain": [
              "array([[1, 0, 0],\n",
              "       [5, 3, 0],\n",
              "       [7, 8, 5]])"
            ]
          },
          "metadata": {},
          "execution_count": 29
        }
      ]
    },
    {
      "cell_type": "markdown",
      "source": [
        "## Practice"
      ],
      "metadata": {
        "id": "ikqzYCSxywy-"
      }
    },
    {
      "cell_type": "markdown",
      "source": [
        "1. Given the linear combination below, try to create a corresponding matrix representing it."
      ],
      "metadata": {
        "id": "5pZnYIhPyx1f"
      }
    },
    {
      "cell_type": "markdown",
      "source": [
        "$$\\theta = 5x + 3y - z$$"
      ],
      "metadata": {
        "id": "Kq4yHIq8yz8j"
      }
    },
    {
      "cell_type": "markdown",
      "source": [
        "2. Given the system of linear combinations below, try to \n",
        "\n",
        "1.   List item\n",
        "2.   List item\n",
        "\n",
        "encode it as a matrix. Also describe the matrix."
      ],
      "metadata": {
        "id": "K10YlvX1y17i"
      }
    },
    {
      "cell_type": "markdown",
      "source": [
        ""
      ],
      "metadata": {
        "id": "ueQgLK93y4Ln"
      }
    },
    {
      "cell_type": "markdown",
      "metadata": {
        "id": "5rsz78fcIfra"
      },
      "source": [
        "$$\n",
        "A = \\left\\{\\begin{array}\n",
        "5x_1 + 2x_2 +x_3\\\\\n",
        "4x_2 - x_3\\\\\n",
        "10x_3\n",
        "\\end{array}\\right.\n",
        "$$"
      ]
    },
    {
      "cell_type": "markdown",
      "source": [
        "3. Given the matrix below, express it as a linear combination in a markdown."
      ],
      "metadata": {
        "id": "YADwrQFJzFyv"
      }
    },
    {
      "cell_type": "code",
      "source": [
        "G = np.array([\n",
        "    [1,7,8],\n",
        "    [2,2,2],\n",
        "    [4,6,7]\n",
        "])"
      ],
      "metadata": {
        "id": "xtLISNgRzG8c"
      },
      "execution_count": 30,
      "outputs": []
    },
    {
      "cell_type": "markdown",
      "source": [
        "4. Given the matrix below, display the output as a LaTeX makdown also express it as a system of linear combinations."
      ],
      "metadata": {
        "id": "S5YNedfizKw6"
      }
    },
    {
      "cell_type": "code",
      "source": [
        "H = np.tril(G)\n",
        "H"
      ],
      "metadata": {
        "colab": {
          "base_uri": "https://localhost:8080/"
        },
        "id": "lFdfy3LxzQXK",
        "outputId": "9a4be49e-1cbe-49e4-a829-061da7a1b1c3"
      },
      "execution_count": 31,
      "outputs": [
        {
          "output_type": "execute_result",
          "data": {
            "text/plain": [
              "array([[1, 0, 0],\n",
              "       [2, 2, 0],\n",
              "       [4, 6, 7]])"
            ]
          },
          "metadata": {},
          "execution_count": 31
        }
      ]
    },
    {
      "cell_type": "markdown",
      "source": [
        "# Matrix Algebra"
      ],
      "metadata": {
        "id": "Kir4mOV8zTgo"
      }
    },
    {
      "cell_type": "markdown",
      "source": [
        "### Addition\n"
      ],
      "metadata": {
        "id": "Os94gkaazWjP"
      }
    },
    {
      "cell_type": "code",
      "source": [
        "A = np.array([\n",
        "    [1,2],\n",
        "    [2,3],\n",
        "    [4,1]\n",
        "])\n",
        "B = np.array([\n",
        "    [2,2],\n",
        "    [0,0],\n",
        "    [1,1]\n",
        "])\n",
        "A+B"
      ],
      "metadata": {
        "colab": {
          "base_uri": "https://localhost:8080/"
        },
        "id": "PsOevwRjzZQi",
        "outputId": "4f4b001c-90fb-4d0e-b592-c1fa21a27989"
      },
      "execution_count": 32,
      "outputs": [
        {
          "output_type": "execute_result",
          "data": {
            "text/plain": [
              "array([[3, 4],\n",
              "       [2, 3],\n",
              "       [5, 2]])"
            ]
          },
          "metadata": {},
          "execution_count": 32
        }
      ]
    },
    {
      "cell_type": "code",
      "source": [
        "2+A ##Broadcasting\n",
        "# 2*np.ones(A.shape)+A"
      ],
      "metadata": {
        "colab": {
          "base_uri": "https://localhost:8080/"
        },
        "id": "YPdGkxv4zk6J",
        "outputId": "4e5d97f6-f232-45a0-d3b3-2dec1ec33a37"
      },
      "execution_count": 33,
      "outputs": [
        {
          "output_type": "execute_result",
          "data": {
            "text/plain": [
              "array([[3, 4],\n",
              "       [4, 5],\n",
              "       [6, 3]])"
            ]
          },
          "metadata": {},
          "execution_count": 33
        }
      ]
    },
    {
      "cell_type": "markdown",
      "source": [
        "### Subtraction"
      ],
      "metadata": {
        "id": "6gTCTkRHzrSp"
      }
    },
    {
      "cell_type": "code",
      "source": [
        "A-B"
      ],
      "metadata": {
        "colab": {
          "base_uri": "https://localhost:8080/"
        },
        "id": "CIqbeOQgzvC3",
        "outputId": "ffa35d25-6fbb-4e90-af21-d4d47f353b80"
      },
      "execution_count": 34,
      "outputs": [
        {
          "output_type": "execute_result",
          "data": {
            "text/plain": [
              "array([[-1,  0],\n",
              "       [ 2,  3],\n",
              "       [ 3,  0]])"
            ]
          },
          "metadata": {},
          "execution_count": 34
        }
      ]
    },
    {
      "cell_type": "code",
      "source": [
        "3-B == 3*np.ones(B.shape)-B"
      ],
      "metadata": {
        "colab": {
          "base_uri": "https://localhost:8080/"
        },
        "id": "hRzXOO4tzy6W",
        "outputId": "cd406513-ad04-495c-871c-75d16e971dda"
      },
      "execution_count": 35,
      "outputs": [
        {
          "output_type": "execute_result",
          "data": {
            "text/plain": [
              "array([[ True,  True],\n",
              "       [ True,  True],\n",
              "       [ True,  True]])"
            ]
          },
          "metadata": {},
          "execution_count": 35
        }
      ]
    },
    {
      "cell_type": "markdown",
      "source": [
        "### Element-wise Multiplication"
      ],
      "metadata": {
        "id": "cEOPL4FXz1PG"
      }
    },
    {
      "cell_type": "code",
      "source": [
        "A*B\n",
        "np.multiply(A,B)"
      ],
      "metadata": {
        "colab": {
          "base_uri": "https://localhost:8080/"
        },
        "id": "rYoV4gs8z4la",
        "outputId": "79b0b977-b333-4134-fdc1-43d1a56cba14"
      },
      "execution_count": 36,
      "outputs": [
        {
          "output_type": "execute_result",
          "data": {
            "text/plain": [
              "array([[2, 4],\n",
              "       [0, 0],\n",
              "       [4, 1]])"
            ]
          },
          "metadata": {},
          "execution_count": 36
        }
      ]
    },
    {
      "cell_type": "code",
      "source": [
        "2*A"
      ],
      "metadata": {
        "colab": {
          "base_uri": "https://localhost:8080/"
        },
        "id": "n3SoreSfz6xY",
        "outputId": "7d0d0b6b-4492-455a-8c7e-ebd590b67d1f"
      },
      "execution_count": 37,
      "outputs": [
        {
          "output_type": "execute_result",
          "data": {
            "text/plain": [
              "array([[2, 4],\n",
              "       [4, 6],\n",
              "       [8, 2]])"
            ]
          },
          "metadata": {},
          "execution_count": 37
        }
      ]
    },
    {
      "cell_type": "code",
      "source": [
        "A@B\n"
      ],
      "metadata": {
        "colab": {
          "base_uri": "https://localhost:8080/",
          "height": 182
        },
        "id": "s7M1HkNGz-es",
        "outputId": "f9a44ece-8027-4457-9f16-4a9efa17b471"
      },
      "execution_count": 38,
      "outputs": [
        {
          "output_type": "error",
          "ename": "ValueError",
          "evalue": "ignored",
          "traceback": [
            "\u001b[0;31m---------------------------------------------------------------------------\u001b[0m",
            "\u001b[0;31mValueError\u001b[0m                                Traceback (most recent call last)",
            "\u001b[0;32m<ipython-input-38-5016aafd2858>\u001b[0m in \u001b[0;36m<module>\u001b[0;34m()\u001b[0m\n\u001b[0;32m----> 1\u001b[0;31m \u001b[0mA\u001b[0m\u001b[0;34m@\u001b[0m\u001b[0mB\u001b[0m\u001b[0;34m\u001b[0m\u001b[0;34m\u001b[0m\u001b[0m\n\u001b[0m",
            "\u001b[0;31mValueError\u001b[0m: matmul: Input operand 1 has a mismatch in its core dimension 0, with gufunc signature (n?,k),(k,m?)->(n?,m?) (size 3 is different from 2)"
          ]
        }
      ]
    },
    {
      "cell_type": "code",
      "source": [
        "alpha=10**-10\n",
        "A/(alpha+B)"
      ],
      "metadata": {
        "colab": {
          "base_uri": "https://localhost:8080/"
        },
        "id": "4uzI5F9U0Q-z",
        "outputId": "65214980-07ba-4b14-93b4-ed464588669d"
      },
      "execution_count": 39,
      "outputs": [
        {
          "output_type": "execute_result",
          "data": {
            "text/plain": [
              "array([[5.e-01, 1.e+00],\n",
              "       [2.e+10, 3.e+10],\n",
              "       [4.e+00, 1.e+00]])"
            ]
          },
          "metadata": {},
          "execution_count": 39
        }
      ]
    },
    {
      "cell_type": "code",
      "source": [
        "np.add(A,B)"
      ],
      "metadata": {
        "colab": {
          "base_uri": "https://localhost:8080/"
        },
        "id": "ifP2GQ060Uh-",
        "outputId": "b8ca95f9-8492-461d-c8d0-922cacf37ca4"
      },
      "execution_count": 40,
      "outputs": [
        {
          "output_type": "execute_result",
          "data": {
            "text/plain": [
              "array([[3, 4],\n",
              "       [2, 3],\n",
              "       [5, 2]])"
            ]
          },
          "metadata": {},
          "execution_count": 40
        }
      ]
    },
    {
      "cell_type": "markdown",
      "source": [
        "## Activity"
      ],
      "metadata": {
        "id": "Zki5yaql0YGN"
      }
    },
    {
      "cell_type": "code",
      "source": [
        ""
      ],
      "metadata": {
        "id": "pRvSV5lIBzb_"
      },
      "execution_count": null,
      "outputs": []
    },
    {
      "cell_type": "code",
      "source": [
        "### Task 1"
      ],
      "metadata": {
        "id": "UZK7WEab0bMx"
      },
      "execution_count": null,
      "outputs": []
    },
    {
      "cell_type": "markdown",
      "source": [
        "Create a function named mat_desc() that througouhly describes a matrix, it should:\n",
        "\n",
        "Displays the shape, size, and rank of the matrix.\n",
        "Displays whether the matrix is square or non-square.\n",
        "Displays whether the matrix is an empty matrix.\n",
        "Displays if the matrix is an identity, ones, or zeros matrix\n",
        "Use 5 sample matrices in which their shapes are not lower than  (3,3) . In your methodology, create a flowchart discuss the functions and methods you have done. Present your results in the results section showing the description of each matrix you have declared."
      ],
      "metadata": {
        "id": "_AlEfjHl0hSc"
      }
    },
    {
      "cell_type": "code",
      "source": [
        "## Function Area\n",
        "import numpy as np\n"
      ],
      "metadata": {
        "id": "zeiFI45p4J5a"
      },
      "execution_count": 41,
      "outputs": []
    },
    {
      "cell_type": "code",
      "source": [
        "## Matrix Declarations\n",
        "\n",
        "def mat_desc(mat):\n",
        "    sq = False\n",
        "    mat = np.array(mat)\n",
        "    print(mat)\n",
        "    print('Shape:', mat.shape)\n",
        "    print('Size:', mat.size)\n",
        "    print('Rank:', np.linalg.matrix_rank(mat))\n",
        "    if(mat.shape[0] == mat.shape[1]):\n",
        "        sq = True\n",
        "        print('The matrix is square')\n",
        "    else:\n",
        "        print('The matrix is non-square')\n",
        "    if(mat.shape[0] == 0 and mat.shape[1] == 0):\n",
        "        print('The matrix is empty')\n",
        "    else:\n",
        "        print('The matrix is not empty')\n",
        "    iden = np.identity(mat.shape[0])\n",
        "    if(sq and (iden == mat).all()):\n",
        "        print('The matrix is an identity matrix')\n",
        "    else:\n",
        "        print('The matrix is not an identity matrix')\n",
        "    one = np.ones((mat.shape[0], mat.shape[1]))\n",
        "    if((one == mat).all()):\n",
        "        print('The matrix is a ones matrix')\n",
        "    else:\n",
        "        print('The matrix is not an ones matrix')\n",
        "    zero = np.zeros((mat.shape[0], mat.shape[1]))\n",
        "    if((zero == mat).all()):\n",
        "        print('The matrix is a zeros matrix')\n",
        "    else:\n",
        "        print('The matrix is not a zeros matrix')"
      ],
      "metadata": {
        "id": "DM3Os7zl4QAC"
      },
      "execution_count": 42,
      "outputs": []
    },
    {
      "cell_type": "code",
      "source": [
        "## Sample Matrices\n",
        "print('Matrix 1:')\n",
        "mat_desc([[0,0,0,0], [0, 0, 0,0], [0,0,0,0]])\n",
        "print('Matrix 2:')\n",
        "mat_desc([[4, 3, 0, 1], [2, 6, 2,5], [7, 1, 2, 8]])\n",
        "print('Matrix 3:')\n",
        "mat_desc([[1, 3, 2, 2], [4, 7, 6, 2], [5, 6, 9, 4]])\n",
        "print('Matrix 4:')\n",
        "mat_desc([[1,1,1],[1,1,1],[1,1,1],[1,1,1], [1,1,1]])\n",
        "print('Matrix 5:')\n",
        "mat_desc([[7,1,5,0],[1,6,2,0],[4,8,6,9],[7,2,1,0],[1,9,1,5]])"
      ],
      "metadata": {
        "colab": {
          "base_uri": "https://localhost:8080/"
        },
        "id": "zNiq-YD74Tvw",
        "outputId": "75eef1e8-9993-449c-ce15-f096a17affcd"
      },
      "execution_count": 43,
      "outputs": [
        {
          "output_type": "stream",
          "name": "stdout",
          "text": [
            "Matrix 1:\n",
            "[[0 0 0 0]\n",
            " [0 0 0 0]\n",
            " [0 0 0 0]]\n",
            "Shape: (3, 4)\n",
            "Size: 12\n",
            "Rank: 0\n",
            "The matrix is non-square\n",
            "The matrix is not empty\n",
            "The matrix is not an identity matrix\n",
            "The matrix is not an ones matrix\n",
            "The matrix is a zeros matrix\n",
            "Matrix 2:\n",
            "[[4 3 0 1]\n",
            " [2 6 2 5]\n",
            " [7 1 2 8]]\n",
            "Shape: (3, 4)\n",
            "Size: 12\n",
            "Rank: 3\n",
            "The matrix is non-square\n",
            "The matrix is not empty\n",
            "The matrix is not an identity matrix\n",
            "The matrix is not an ones matrix\n",
            "The matrix is not a zeros matrix\n",
            "Matrix 3:\n",
            "[[1 3 2 2]\n",
            " [4 7 6 2]\n",
            " [5 6 9 4]]\n",
            "Shape: (3, 4)\n",
            "Size: 12\n",
            "Rank: 3\n",
            "The matrix is non-square\n",
            "The matrix is not empty\n",
            "The matrix is not an identity matrix\n",
            "The matrix is not an ones matrix\n",
            "The matrix is not a zeros matrix\n",
            "Matrix 4:\n",
            "[[1 1 1]\n",
            " [1 1 1]\n",
            " [1 1 1]\n",
            " [1 1 1]\n",
            " [1 1 1]]\n",
            "Shape: (5, 3)\n",
            "Size: 15\n",
            "Rank: 1\n",
            "The matrix is non-square\n",
            "The matrix is not empty\n",
            "The matrix is not an identity matrix\n",
            "The matrix is a ones matrix\n",
            "The matrix is not a zeros matrix\n",
            "Matrix 5:\n",
            "[[7 1 5 0]\n",
            " [1 6 2 0]\n",
            " [4 8 6 9]\n",
            " [7 2 1 0]\n",
            " [1 9 1 5]]\n",
            "Shape: (5, 4)\n",
            "Size: 20\n",
            "Rank: 4\n",
            "The matrix is non-square\n",
            "The matrix is not empty\n",
            "The matrix is not an identity matrix\n",
            "The matrix is not an ones matrix\n",
            "The matrix is not a zeros matrix\n"
          ]
        }
      ]
    },
    {
      "cell_type": "markdown",
      "source": [
        "### Task 2"
      ],
      "metadata": {
        "id": "W_sYQ6va0pYe"
      }
    },
    {
      "cell_type": "markdown",
      "source": [
        "Create a function named mat_operations() that takes in two matrices a input parameters it should:\n",
        "\n",
        "Determines if the matrices are viable for operation and returns your own error message if they are not viable.\n",
        "Returns the sum of the matrices.\n",
        "Returns the differen of the matrices.\n",
        "Returns the element-wise multiplication of the matrices.\n",
        "Returns the element-wise division of the matrices.\n",
        "Use 5 sample matrices in which their shapes are not lower than  (3,3) . In your methodology, create a flowchart discuss the functions and methods you have done. Present your results in the results section showing the description of each matrix you have declared."
      ],
      "metadata": {
        "id": "7s4f2m1C0sAS"
      }
    },
    {
      "cell_type": "code",
      "source": [
        "## Function Area\n",
        "import numpy as np"
      ],
      "metadata": {
        "id": "u70-XJNH4jNI"
      },
      "execution_count": 44,
      "outputs": []
    },
    {
      "cell_type": "code",
      "source": [
        "def mat_operations(mat1, mat2):\n",
        "    mat1 = np.array(mat1)\n",
        "    mat2 = np.array(mat2)\n",
        "    print('Matrix 1:', mat1)\n",
        "    print('Matrix 2:', mat2)\n",
        "    if(mat1.shape != mat2.shape):\n",
        "        print('The matrices are not equal and invalid size operation.')\n",
        "        return\n",
        "    print('Sum of the  matrices:')\n",
        "    matsum = mat1 + mat2\n",
        "    print(matsum)\n",
        "    print('Difference of the  matrices:')\n",
        "    matdiff = mat1 - mat2\n",
        "    print(matdiff)\n",
        "    print('Element-wise multiplication of the  matrices:')\n",
        "    matmul = np.multiply(mat1, mat2)\n",
        "    print(matmul)\n",
        "    print('Element-wise division of the  matrices:')\n",
        "    matdiv = np.divide(mat1, mat2)\n",
        "    print(matdiv)"
      ],
      "metadata": {
        "id": "F4jotJeu4oyI"
      },
      "execution_count": 45,
      "outputs": []
    },
    {
      "cell_type": "code",
      "source": [
        ""
      ],
      "metadata": {
        "id": "tHjS-VLbRaaP"
      },
      "execution_count": null,
      "outputs": []
    },
    {
      "cell_type": "code",
      "source": [
        "print('sample1:')\n",
        "mat_operations([[2,3,2], [5,4,7], [4,3,8]],[[3,4,5], [9,7,1],[1,2,6]])\n",
        "\n",
        "print('sample 2:')\n",
        "mat_operations([[2, 6, 3,4], [3,3,1,5], [5,1,5,7]], [[3,7,5,7],[1,2,1,9],[1,1,1,6]])\n",
        "\n",
        "print('sample 3:')\n",
        "mat_operations([[2, 5, 1], [3,6,3], [6,1,5]], [[5,4,2],[3,4,6],[3,2,3]])\n",
        "\n",
        "print('sample 4:')\n",
        "mat_operations([[6,2,1,8,2], [3,6,3,7,8], [6,1,5,9,2]], [[5,4,2,7,7],[3,4,6,8,9],[3,2,3,6,2]])\n",
        "\n",
        "print('sample 5:')\n",
        "mat_operations([[6,2,1,8,2,5], [3,6,3,7,8,8], [6,1,5,9,2,2]], [[5,4,2,7,7,8],[3,4,6,8,9,2],[3,2,3,6,2,1]])\n"
      ],
      "metadata": {
        "colab": {
          "base_uri": "https://localhost:8080/"
        },
        "id": "ZPHkGR0V4vxv",
        "outputId": "0aa66c98-4838-4cb1-8f46-4fcbdfd34bea"
      },
      "execution_count": 46,
      "outputs": [
        {
          "output_type": "stream",
          "name": "stdout",
          "text": [
            "sample1:\n",
            "Matrix 1: [[2 3 2]\n",
            " [5 4 7]\n",
            " [4 3 8]]\n",
            "Matrix 2: [[3 4 5]\n",
            " [9 7 1]\n",
            " [1 2 6]]\n",
            "Sum of the  matrices:\n",
            "[[ 5  7  7]\n",
            " [14 11  8]\n",
            " [ 5  5 14]]\n",
            "Difference of the  matrices:\n",
            "[[-1 -1 -3]\n",
            " [-4 -3  6]\n",
            " [ 3  1  2]]\n",
            "Element-wise multiplication of the  matrices:\n",
            "[[ 6 12 10]\n",
            " [45 28  7]\n",
            " [ 4  6 48]]\n",
            "Element-wise division of the  matrices:\n",
            "[[0.66666667 0.75       0.4       ]\n",
            " [0.55555556 0.57142857 7.        ]\n",
            " [4.         1.5        1.33333333]]\n",
            "sample 2:\n",
            "Matrix 1: [[2 6 3 4]\n",
            " [3 3 1 5]\n",
            " [5 1 5 7]]\n",
            "Matrix 2: [[3 7 5 7]\n",
            " [1 2 1 9]\n",
            " [1 1 1 6]]\n",
            "Sum of the  matrices:\n",
            "[[ 5 13  8 11]\n",
            " [ 4  5  2 14]\n",
            " [ 6  2  6 13]]\n",
            "Difference of the  matrices:\n",
            "[[-1 -1 -2 -3]\n",
            " [ 2  1  0 -4]\n",
            " [ 4  0  4  1]]\n",
            "Element-wise multiplication of the  matrices:\n",
            "[[ 6 42 15 28]\n",
            " [ 3  6  1 45]\n",
            " [ 5  1  5 42]]\n",
            "Element-wise division of the  matrices:\n",
            "[[0.66666667 0.85714286 0.6        0.57142857]\n",
            " [3.         1.5        1.         0.55555556]\n",
            " [5.         1.         5.         1.16666667]]\n",
            "sample 3:\n",
            "Matrix 1: [[2 5 1]\n",
            " [3 6 3]\n",
            " [6 1 5]]\n",
            "Matrix 2: [[5 4 2]\n",
            " [3 4 6]\n",
            " [3 2 3]]\n",
            "Sum of the  matrices:\n",
            "[[ 7  9  3]\n",
            " [ 6 10  9]\n",
            " [ 9  3  8]]\n",
            "Difference of the  matrices:\n",
            "[[-3  1 -1]\n",
            " [ 0  2 -3]\n",
            " [ 3 -1  2]]\n",
            "Element-wise multiplication of the  matrices:\n",
            "[[10 20  2]\n",
            " [ 9 24 18]\n",
            " [18  2 15]]\n",
            "Element-wise division of the  matrices:\n",
            "[[0.4        1.25       0.5       ]\n",
            " [1.         1.5        0.5       ]\n",
            " [2.         0.5        1.66666667]]\n",
            "sample 4:\n",
            "Matrix 1: [[6 2 1 8 2]\n",
            " [3 6 3 7 8]\n",
            " [6 1 5 9 2]]\n",
            "Matrix 2: [[5 4 2 7 7]\n",
            " [3 4 6 8 9]\n",
            " [3 2 3 6 2]]\n",
            "Sum of the  matrices:\n",
            "[[11  6  3 15  9]\n",
            " [ 6 10  9 15 17]\n",
            " [ 9  3  8 15  4]]\n",
            "Difference of the  matrices:\n",
            "[[ 1 -2 -1  1 -5]\n",
            " [ 0  2 -3 -1 -1]\n",
            " [ 3 -1  2  3  0]]\n",
            "Element-wise multiplication of the  matrices:\n",
            "[[30  8  2 56 14]\n",
            " [ 9 24 18 56 72]\n",
            " [18  2 15 54  4]]\n",
            "Element-wise division of the  matrices:\n",
            "[[1.2        0.5        0.5        1.14285714 0.28571429]\n",
            " [1.         1.5        0.5        0.875      0.88888889]\n",
            " [2.         0.5        1.66666667 1.5        1.        ]]\n",
            "sample 5:\n",
            "Matrix 1: [[6 2 1 8 2 5]\n",
            " [3 6 3 7 8 8]\n",
            " [6 1 5 9 2 2]]\n",
            "Matrix 2: [[5 4 2 7 7 8]\n",
            " [3 4 6 8 9 2]\n",
            " [3 2 3 6 2 1]]\n",
            "Sum of the  matrices:\n",
            "[[11  6  3 15  9 13]\n",
            " [ 6 10  9 15 17 10]\n",
            " [ 9  3  8 15  4  3]]\n",
            "Difference of the  matrices:\n",
            "[[ 1 -2 -1  1 -5 -3]\n",
            " [ 0  2 -3 -1 -1  6]\n",
            " [ 3 -1  2  3  0  1]]\n",
            "Element-wise multiplication of the  matrices:\n",
            "[[30  8  2 56 14 40]\n",
            " [ 9 24 18 56 72 16]\n",
            " [18  2 15 54  4  2]]\n",
            "Element-wise division of the  matrices:\n",
            "[[1.2        0.5        0.5        1.14285714 0.28571429 0.625     ]\n",
            " [1.         1.5        0.5        0.875      0.88888889 4.        ]\n",
            " [2.         0.5        1.66666667 1.5        1.         2.        ]]\n"
          ]
        }
      ]
    },
    {
      "cell_type": "markdown",
      "source": [
        "## Conclusion"
      ],
      "metadata": {
        "id": "a9FgfdEC00EL"
      }
    },
    {
      "cell_type": "markdown",
      "source": [
        "\n",
        "To further conclude this activity, the programmers have learned various ways of encoding matrices and have a good understanding of the definitions and types of matrices that can be used more easily than using handwritten algebraic expressions to further utilize the technology using computers and Google Colab. Moreover, this activity proves that matrices are used for shortcuts in Differential equations and a basic concept to use for the upcoming Chemical Engineers in creating prototypes for analysis specifically in the industry. Furthermore, the use of Matrix Algebra might be convenient for using different equations and for presentations for planning. In the world of Industrial Revolution 4.0, the utilization of advanced technologies is so predominant that it can easily manifest a lot of ideas and can further develop experiments in the future. At this point, as a good background in Mathematics along with technological devices, students and even experts could easily manipulate different approaches in applying matrices for Mathematics and this could lead to a more advanced and progress to another stepping stone towards the human race. In addition, [2]Digital picture is a matrix when it comes to the use of matrices in graphics. In basic terms, the matrix's rows and columns correspond to the pixels' rows and columns. The number entries correspond to the color codes of the pixels. Aside from that, matrices are employed to depict graphs. Meaning, every graph can be represented as a matrix, with each column and row representing a network point, and the value of their intersection representing the link between them.[3] Moreover, Matrices works also in the automation of Encryption of data, 3D games, economics and business, Construction, Dance, Animation, Physics, and Geology, which are fundamental in the 21st Century as their worldwide application of science. \n"
      ],
      "metadata": {
        "id": "Zlo3uI4DSmUF"
      }
    }
  ]
}